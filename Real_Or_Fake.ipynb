{
  "nbformat": 4,
  "nbformat_minor": 0,
  "metadata": {
    "colab": {
      "provenance": [],
      "authorship_tag": "ABX9TyM0Ve/A601GmnRYQmrb/IBl",
      "include_colab_link": true
    },
    "kernelspec": {
      "name": "python3",
      "display_name": "Python 3"
    },
    "language_info": {
      "name": "python"
    }
  },
  "cells": [
    {
      "cell_type": "markdown",
      "metadata": {
        "id": "view-in-github",
        "colab_type": "text"
      },
      "source": [
        "<a href=\"https://colab.research.google.com/github/tgubbe/Real_Or_Fake_NLP/blob/main/Real_Or_Fake.ipynb\" target=\"_parent\"><img src=\"https://colab.research.google.com/assets/colab-badge.svg\" alt=\"Open In Colab\"/></a>"
      ]
    },
    {
      "cell_type": "markdown",
      "source": [
        "# **Analyzing Text to Determine Real or Fake News**"
      ],
      "metadata": {
        "id": "-5SPW9QfmYy4"
      }
    },
    {
      "cell_type": "markdown",
      "source": [
        "In this session, I will analyze the texts in news articles to determine real or fake news.\n",
        "\n",
        "First, a variety of packages are installed in the session. These packages are the most common packages I use for analysis, so they are installed first."
      ],
      "metadata": {
        "id": "JVZG5zVEYY6e"
      }
    },
    {
      "cell_type": "code",
      "execution_count": 1,
      "metadata": {
        "id": "hVh5V7WFj3cq"
      },
      "outputs": [],
      "source": [
        "import pandas as pd\n",
        "import numpy as np\n",
        "import seaborn as sns\n",
        "import matplotlib.pyplot as plt\n",
        "%matplotlib inline\n",
        "sns.set_style('darkgrid')"
      ]
    },
    {
      "cell_type": "markdown",
      "source": [
        "In addition, there are packages related to Natural Word Processing. These include the NLTK library and functions from the NLTK library, such as stopwords and word tokenization. These will be explained later in the session."
      ],
      "metadata": {
        "id": "yjau5eiaeCu6"
      }
    },
    {
      "cell_type": "code",
      "source": [
        "import nltk\n",
        "import re\n",
        "nltk.download('punkt')\n",
        "nltk.download('stopwords')\n",
        "from nltk.tokenize import word_tokenize\n",
        "from nltk.corpus import stopwords\n",
        "import string\n",
        "from sklearn.naive_bayes import MultinomialNB\n",
        "from sklearn.metrics import classification_report, confusion_matrix, plot_confusion_matrix"
      ],
      "metadata": {
        "colab": {
          "base_uri": "https://localhost:8080/"
        },
        "id": "ev0m1fPllgFf",
        "outputId": "5092bb27-b888-41a0-a174-d6b45f0c86b7"
      },
      "execution_count": 2,
      "outputs": [
        {
          "output_type": "stream",
          "name": "stderr",
          "text": [
            "[nltk_data] Downloading package punkt to /root/nltk_data...\n",
            "[nltk_data]   Unzipping tokenizers/punkt.zip.\n",
            "[nltk_data] Downloading package stopwords to /root/nltk_data...\n",
            "[nltk_data]   Unzipping corpora/stopwords.zip.\n"
          ]
        }
      ]
    },
    {
      "cell_type": "markdown",
      "source": [
        "## **Setting up the Data**"
      ],
      "metadata": {
        "id": "37ps7bqPmnRg"
      }
    },
    {
      "cell_type": "markdown",
      "source": [
        "The data is imported into the session, with the real news and fake news data sets saved in separate data frames."
      ],
      "metadata": {
        "id": "f_VW7FFNeSkG"
      }
    },
    {
      "cell_type": "code",
      "source": [
        "from google.colab import drive\n",
        "drive.mount(\"/content/gdrive\")"
      ],
      "metadata": {
        "colab": {
          "base_uri": "https://localhost:8080/"
        },
        "id": "Y0KJf_45lmJW",
        "outputId": "c72cd680-7c40-4f9f-e86e-fc457a10928a"
      },
      "execution_count": 3,
      "outputs": [
        {
          "output_type": "stream",
          "name": "stdout",
          "text": [
            "Mounted at /content/gdrive\n"
          ]
        }
      ]
    },
    {
      "cell_type": "code",
      "source": [
        "#The real and fake data sets are loaded into separate data frames.\n",
        "real_df = pd.read_csv('/content/gdrive/My Drive/Datasets/True.csv')\n",
        "fake_df = pd.read_csv('/content/gdrive/My Drive/Datasets/Fake.csv')"
      ],
      "metadata": {
        "id": "yM0NHpF_lpJQ"
      },
      "execution_count": 4,
      "outputs": []
    },
    {
      "cell_type": "markdown",
      "source": [
        "The real news and fake news data frames are viewed and inspected to get a feel for the data. Both data frames have title, text, subject, and date columns and contain no missing values."
      ],
      "metadata": {
        "id": "G5QnAwuJedt7"
      }
    },
    {
      "cell_type": "code",
      "source": [
        "real_df.head()"
      ],
      "metadata": {
        "colab": {
          "base_uri": "https://localhost:8080/",
          "height": 206
        },
        "id": "V8pPNdeamMCc",
        "outputId": "40d1f54a-6ca6-47f7-f65d-65b058a81dcc"
      },
      "execution_count": 5,
      "outputs": [
        {
          "output_type": "execute_result",
          "data": {
            "text/plain": [
              "                                               title  \\\n",
              "0  As U.S. budget fight looms, Republicans flip t...   \n",
              "1  U.S. military to accept transgender recruits o...   \n",
              "2  Senior U.S. Republican senator: 'Let Mr. Muell...   \n",
              "3  FBI Russia probe helped by Australian diplomat...   \n",
              "4  Trump wants Postal Service to charge 'much mor...   \n",
              "\n",
              "                                                text       subject  \\\n",
              "0  WASHINGTON (Reuters) - The head of a conservat...  politicsNews   \n",
              "1  WASHINGTON (Reuters) - Transgender people will...  politicsNews   \n",
              "2  WASHINGTON (Reuters) - The special counsel inv...  politicsNews   \n",
              "3  WASHINGTON (Reuters) - Trump campaign adviser ...  politicsNews   \n",
              "4  SEATTLE/WASHINGTON (Reuters) - President Donal...  politicsNews   \n",
              "\n",
              "                 date  \n",
              "0  December 31, 2017   \n",
              "1  December 29, 2017   \n",
              "2  December 31, 2017   \n",
              "3  December 30, 2017   \n",
              "4  December 29, 2017   "
            ],
            "text/html": [
              "\n",
              "  <div id=\"df-c6092a39-bbe9-4ebf-b37b-8acfdedc5432\">\n",
              "    <div class=\"colab-df-container\">\n",
              "      <div>\n",
              "<style scoped>\n",
              "    .dataframe tbody tr th:only-of-type {\n",
              "        vertical-align: middle;\n",
              "    }\n",
              "\n",
              "    .dataframe tbody tr th {\n",
              "        vertical-align: top;\n",
              "    }\n",
              "\n",
              "    .dataframe thead th {\n",
              "        text-align: right;\n",
              "    }\n",
              "</style>\n",
              "<table border=\"1\" class=\"dataframe\">\n",
              "  <thead>\n",
              "    <tr style=\"text-align: right;\">\n",
              "      <th></th>\n",
              "      <th>title</th>\n",
              "      <th>text</th>\n",
              "      <th>subject</th>\n",
              "      <th>date</th>\n",
              "    </tr>\n",
              "  </thead>\n",
              "  <tbody>\n",
              "    <tr>\n",
              "      <th>0</th>\n",
              "      <td>As U.S. budget fight looms, Republicans flip t...</td>\n",
              "      <td>WASHINGTON (Reuters) - The head of a conservat...</td>\n",
              "      <td>politicsNews</td>\n",
              "      <td>December 31, 2017</td>\n",
              "    </tr>\n",
              "    <tr>\n",
              "      <th>1</th>\n",
              "      <td>U.S. military to accept transgender recruits o...</td>\n",
              "      <td>WASHINGTON (Reuters) - Transgender people will...</td>\n",
              "      <td>politicsNews</td>\n",
              "      <td>December 29, 2017</td>\n",
              "    </tr>\n",
              "    <tr>\n",
              "      <th>2</th>\n",
              "      <td>Senior U.S. Republican senator: 'Let Mr. Muell...</td>\n",
              "      <td>WASHINGTON (Reuters) - The special counsel inv...</td>\n",
              "      <td>politicsNews</td>\n",
              "      <td>December 31, 2017</td>\n",
              "    </tr>\n",
              "    <tr>\n",
              "      <th>3</th>\n",
              "      <td>FBI Russia probe helped by Australian diplomat...</td>\n",
              "      <td>WASHINGTON (Reuters) - Trump campaign adviser ...</td>\n",
              "      <td>politicsNews</td>\n",
              "      <td>December 30, 2017</td>\n",
              "    </tr>\n",
              "    <tr>\n",
              "      <th>4</th>\n",
              "      <td>Trump wants Postal Service to charge 'much mor...</td>\n",
              "      <td>SEATTLE/WASHINGTON (Reuters) - President Donal...</td>\n",
              "      <td>politicsNews</td>\n",
              "      <td>December 29, 2017</td>\n",
              "    </tr>\n",
              "  </tbody>\n",
              "</table>\n",
              "</div>\n",
              "      <button class=\"colab-df-convert\" onclick=\"convertToInteractive('df-c6092a39-bbe9-4ebf-b37b-8acfdedc5432')\"\n",
              "              title=\"Convert this dataframe to an interactive table.\"\n",
              "              style=\"display:none;\">\n",
              "        \n",
              "  <svg xmlns=\"http://www.w3.org/2000/svg\" height=\"24px\"viewBox=\"0 0 24 24\"\n",
              "       width=\"24px\">\n",
              "    <path d=\"M0 0h24v24H0V0z\" fill=\"none\"/>\n",
              "    <path d=\"M18.56 5.44l.94 2.06.94-2.06 2.06-.94-2.06-.94-.94-2.06-.94 2.06-2.06.94zm-11 1L8.5 8.5l.94-2.06 2.06-.94-2.06-.94L8.5 2.5l-.94 2.06-2.06.94zm10 10l.94 2.06.94-2.06 2.06-.94-2.06-.94-.94-2.06-.94 2.06-2.06.94z\"/><path d=\"M17.41 7.96l-1.37-1.37c-.4-.4-.92-.59-1.43-.59-.52 0-1.04.2-1.43.59L10.3 9.45l-7.72 7.72c-.78.78-.78 2.05 0 2.83L4 21.41c.39.39.9.59 1.41.59.51 0 1.02-.2 1.41-.59l7.78-7.78 2.81-2.81c.8-.78.8-2.07 0-2.86zM5.41 20L4 18.59l7.72-7.72 1.47 1.35L5.41 20z\"/>\n",
              "  </svg>\n",
              "      </button>\n",
              "      \n",
              "  <style>\n",
              "    .colab-df-container {\n",
              "      display:flex;\n",
              "      flex-wrap:wrap;\n",
              "      gap: 12px;\n",
              "    }\n",
              "\n",
              "    .colab-df-convert {\n",
              "      background-color: #E8F0FE;\n",
              "      border: none;\n",
              "      border-radius: 50%;\n",
              "      cursor: pointer;\n",
              "      display: none;\n",
              "      fill: #1967D2;\n",
              "      height: 32px;\n",
              "      padding: 0 0 0 0;\n",
              "      width: 32px;\n",
              "    }\n",
              "\n",
              "    .colab-df-convert:hover {\n",
              "      background-color: #E2EBFA;\n",
              "      box-shadow: 0px 1px 2px rgba(60, 64, 67, 0.3), 0px 1px 3px 1px rgba(60, 64, 67, 0.15);\n",
              "      fill: #174EA6;\n",
              "    }\n",
              "\n",
              "    [theme=dark] .colab-df-convert {\n",
              "      background-color: #3B4455;\n",
              "      fill: #D2E3FC;\n",
              "    }\n",
              "\n",
              "    [theme=dark] .colab-df-convert:hover {\n",
              "      background-color: #434B5C;\n",
              "      box-shadow: 0px 1px 3px 1px rgba(0, 0, 0, 0.15);\n",
              "      filter: drop-shadow(0px 1px 2px rgba(0, 0, 0, 0.3));\n",
              "      fill: #FFFFFF;\n",
              "    }\n",
              "  </style>\n",
              "\n",
              "      <script>\n",
              "        const buttonEl =\n",
              "          document.querySelector('#df-c6092a39-bbe9-4ebf-b37b-8acfdedc5432 button.colab-df-convert');\n",
              "        buttonEl.style.display =\n",
              "          google.colab.kernel.accessAllowed ? 'block' : 'none';\n",
              "\n",
              "        async function convertToInteractive(key) {\n",
              "          const element = document.querySelector('#df-c6092a39-bbe9-4ebf-b37b-8acfdedc5432');\n",
              "          const dataTable =\n",
              "            await google.colab.kernel.invokeFunction('convertToInteractive',\n",
              "                                                     [key], {});\n",
              "          if (!dataTable) return;\n",
              "\n",
              "          const docLinkHtml = 'Like what you see? Visit the ' +\n",
              "            '<a target=\"_blank\" href=https://colab.research.google.com/notebooks/data_table.ipynb>data table notebook</a>'\n",
              "            + ' to learn more about interactive tables.';\n",
              "          element.innerHTML = '';\n",
              "          dataTable['output_type'] = 'display_data';\n",
              "          await google.colab.output.renderOutput(dataTable, element);\n",
              "          const docLink = document.createElement('div');\n",
              "          docLink.innerHTML = docLinkHtml;\n",
              "          element.appendChild(docLink);\n",
              "        }\n",
              "      </script>\n",
              "    </div>\n",
              "  </div>\n",
              "  "
            ]
          },
          "metadata": {},
          "execution_count": 5
        }
      ]
    },
    {
      "cell_type": "code",
      "source": [
        "real_df.info()"
      ],
      "metadata": {
        "colab": {
          "base_uri": "https://localhost:8080/"
        },
        "id": "H5lnzj7FpvEh",
        "outputId": "33b7a558-6368-422e-ec49-b6d3c2bf93d2"
      },
      "execution_count": 6,
      "outputs": [
        {
          "output_type": "stream",
          "name": "stdout",
          "text": [
            "<class 'pandas.core.frame.DataFrame'>\n",
            "RangeIndex: 21417 entries, 0 to 21416\n",
            "Data columns (total 4 columns):\n",
            " #   Column   Non-Null Count  Dtype \n",
            "---  ------   --------------  ----- \n",
            " 0   title    21417 non-null  object\n",
            " 1   text     21417 non-null  object\n",
            " 2   subject  21417 non-null  object\n",
            " 3   date     21417 non-null  object\n",
            "dtypes: object(4)\n",
            "memory usage: 669.4+ KB\n"
          ]
        }
      ]
    },
    {
      "cell_type": "code",
      "source": [
        "fake_df.head()"
      ],
      "metadata": {
        "colab": {
          "base_uri": "https://localhost:8080/",
          "height": 206
        },
        "id": "uD6ez8zmmUaK",
        "outputId": "c19f3205-9c6f-421b-de85-bfcb9b1d266c"
      },
      "execution_count": 7,
      "outputs": [
        {
          "output_type": "execute_result",
          "data": {
            "text/plain": [
              "                                               title  \\\n",
              "0   Donald Trump Sends Out Embarrassing New Year’...   \n",
              "1   Drunk Bragging Trump Staffer Started Russian ...   \n",
              "2   Sheriff David Clarke Becomes An Internet Joke...   \n",
              "3   Trump Is So Obsessed He Even Has Obama’s Name...   \n",
              "4   Pope Francis Just Called Out Donald Trump Dur...   \n",
              "\n",
              "                                                text subject  \\\n",
              "0  Donald Trump just couldn t wish all Americans ...    News   \n",
              "1  House Intelligence Committee Chairman Devin Nu...    News   \n",
              "2  On Friday, it was revealed that former Milwauk...    News   \n",
              "3  On Christmas day, Donald Trump announced that ...    News   \n",
              "4  Pope Francis used his annual Christmas Day mes...    News   \n",
              "\n",
              "                date  \n",
              "0  December 31, 2017  \n",
              "1  December 31, 2017  \n",
              "2  December 30, 2017  \n",
              "3  December 29, 2017  \n",
              "4  December 25, 2017  "
            ],
            "text/html": [
              "\n",
              "  <div id=\"df-ea2c7c20-93b2-4a4e-a0e4-30b6f65e9830\">\n",
              "    <div class=\"colab-df-container\">\n",
              "      <div>\n",
              "<style scoped>\n",
              "    .dataframe tbody tr th:only-of-type {\n",
              "        vertical-align: middle;\n",
              "    }\n",
              "\n",
              "    .dataframe tbody tr th {\n",
              "        vertical-align: top;\n",
              "    }\n",
              "\n",
              "    .dataframe thead th {\n",
              "        text-align: right;\n",
              "    }\n",
              "</style>\n",
              "<table border=\"1\" class=\"dataframe\">\n",
              "  <thead>\n",
              "    <tr style=\"text-align: right;\">\n",
              "      <th></th>\n",
              "      <th>title</th>\n",
              "      <th>text</th>\n",
              "      <th>subject</th>\n",
              "      <th>date</th>\n",
              "    </tr>\n",
              "  </thead>\n",
              "  <tbody>\n",
              "    <tr>\n",
              "      <th>0</th>\n",
              "      <td>Donald Trump Sends Out Embarrassing New Year’...</td>\n",
              "      <td>Donald Trump just couldn t wish all Americans ...</td>\n",
              "      <td>News</td>\n",
              "      <td>December 31, 2017</td>\n",
              "    </tr>\n",
              "    <tr>\n",
              "      <th>1</th>\n",
              "      <td>Drunk Bragging Trump Staffer Started Russian ...</td>\n",
              "      <td>House Intelligence Committee Chairman Devin Nu...</td>\n",
              "      <td>News</td>\n",
              "      <td>December 31, 2017</td>\n",
              "    </tr>\n",
              "    <tr>\n",
              "      <th>2</th>\n",
              "      <td>Sheriff David Clarke Becomes An Internet Joke...</td>\n",
              "      <td>On Friday, it was revealed that former Milwauk...</td>\n",
              "      <td>News</td>\n",
              "      <td>December 30, 2017</td>\n",
              "    </tr>\n",
              "    <tr>\n",
              "      <th>3</th>\n",
              "      <td>Trump Is So Obsessed He Even Has Obama’s Name...</td>\n",
              "      <td>On Christmas day, Donald Trump announced that ...</td>\n",
              "      <td>News</td>\n",
              "      <td>December 29, 2017</td>\n",
              "    </tr>\n",
              "    <tr>\n",
              "      <th>4</th>\n",
              "      <td>Pope Francis Just Called Out Donald Trump Dur...</td>\n",
              "      <td>Pope Francis used his annual Christmas Day mes...</td>\n",
              "      <td>News</td>\n",
              "      <td>December 25, 2017</td>\n",
              "    </tr>\n",
              "  </tbody>\n",
              "</table>\n",
              "</div>\n",
              "      <button class=\"colab-df-convert\" onclick=\"convertToInteractive('df-ea2c7c20-93b2-4a4e-a0e4-30b6f65e9830')\"\n",
              "              title=\"Convert this dataframe to an interactive table.\"\n",
              "              style=\"display:none;\">\n",
              "        \n",
              "  <svg xmlns=\"http://www.w3.org/2000/svg\" height=\"24px\"viewBox=\"0 0 24 24\"\n",
              "       width=\"24px\">\n",
              "    <path d=\"M0 0h24v24H0V0z\" fill=\"none\"/>\n",
              "    <path d=\"M18.56 5.44l.94 2.06.94-2.06 2.06-.94-2.06-.94-.94-2.06-.94 2.06-2.06.94zm-11 1L8.5 8.5l.94-2.06 2.06-.94-2.06-.94L8.5 2.5l-.94 2.06-2.06.94zm10 10l.94 2.06.94-2.06 2.06-.94-2.06-.94-.94-2.06-.94 2.06-2.06.94z\"/><path d=\"M17.41 7.96l-1.37-1.37c-.4-.4-.92-.59-1.43-.59-.52 0-1.04.2-1.43.59L10.3 9.45l-7.72 7.72c-.78.78-.78 2.05 0 2.83L4 21.41c.39.39.9.59 1.41.59.51 0 1.02-.2 1.41-.59l7.78-7.78 2.81-2.81c.8-.78.8-2.07 0-2.86zM5.41 20L4 18.59l7.72-7.72 1.47 1.35L5.41 20z\"/>\n",
              "  </svg>\n",
              "      </button>\n",
              "      \n",
              "  <style>\n",
              "    .colab-df-container {\n",
              "      display:flex;\n",
              "      flex-wrap:wrap;\n",
              "      gap: 12px;\n",
              "    }\n",
              "\n",
              "    .colab-df-convert {\n",
              "      background-color: #E8F0FE;\n",
              "      border: none;\n",
              "      border-radius: 50%;\n",
              "      cursor: pointer;\n",
              "      display: none;\n",
              "      fill: #1967D2;\n",
              "      height: 32px;\n",
              "      padding: 0 0 0 0;\n",
              "      width: 32px;\n",
              "    }\n",
              "\n",
              "    .colab-df-convert:hover {\n",
              "      background-color: #E2EBFA;\n",
              "      box-shadow: 0px 1px 2px rgba(60, 64, 67, 0.3), 0px 1px 3px 1px rgba(60, 64, 67, 0.15);\n",
              "      fill: #174EA6;\n",
              "    }\n",
              "\n",
              "    [theme=dark] .colab-df-convert {\n",
              "      background-color: #3B4455;\n",
              "      fill: #D2E3FC;\n",
              "    }\n",
              "\n",
              "    [theme=dark] .colab-df-convert:hover {\n",
              "      background-color: #434B5C;\n",
              "      box-shadow: 0px 1px 3px 1px rgba(0, 0, 0, 0.15);\n",
              "      filter: drop-shadow(0px 1px 2px rgba(0, 0, 0, 0.3));\n",
              "      fill: #FFFFFF;\n",
              "    }\n",
              "  </style>\n",
              "\n",
              "      <script>\n",
              "        const buttonEl =\n",
              "          document.querySelector('#df-ea2c7c20-93b2-4a4e-a0e4-30b6f65e9830 button.colab-df-convert');\n",
              "        buttonEl.style.display =\n",
              "          google.colab.kernel.accessAllowed ? 'block' : 'none';\n",
              "\n",
              "        async function convertToInteractive(key) {\n",
              "          const element = document.querySelector('#df-ea2c7c20-93b2-4a4e-a0e4-30b6f65e9830');\n",
              "          const dataTable =\n",
              "            await google.colab.kernel.invokeFunction('convertToInteractive',\n",
              "                                                     [key], {});\n",
              "          if (!dataTable) return;\n",
              "\n",
              "          const docLinkHtml = 'Like what you see? Visit the ' +\n",
              "            '<a target=\"_blank\" href=https://colab.research.google.com/notebooks/data_table.ipynb>data table notebook</a>'\n",
              "            + ' to learn more about interactive tables.';\n",
              "          element.innerHTML = '';\n",
              "          dataTable['output_type'] = 'display_data';\n",
              "          await google.colab.output.renderOutput(dataTable, element);\n",
              "          const docLink = document.createElement('div');\n",
              "          docLink.innerHTML = docLinkHtml;\n",
              "          element.appendChild(docLink);\n",
              "        }\n",
              "      </script>\n",
              "    </div>\n",
              "  </div>\n",
              "  "
            ]
          },
          "metadata": {},
          "execution_count": 7
        }
      ]
    },
    {
      "cell_type": "code",
      "source": [
        "fake_df.info()"
      ],
      "metadata": {
        "colab": {
          "base_uri": "https://localhost:8080/"
        },
        "id": "lxRq_3H3p1Kp",
        "outputId": "b16ed7e5-b92e-4041-e4a5-7a974f67d7f2"
      },
      "execution_count": 8,
      "outputs": [
        {
          "output_type": "stream",
          "name": "stdout",
          "text": [
            "<class 'pandas.core.frame.DataFrame'>\n",
            "RangeIndex: 23481 entries, 0 to 23480\n",
            "Data columns (total 4 columns):\n",
            " #   Column   Non-Null Count  Dtype \n",
            "---  ------   --------------  ----- \n",
            " 0   title    23481 non-null  object\n",
            " 1   text     23481 non-null  object\n",
            " 2   subject  23481 non-null  object\n",
            " 3   date     23481 non-null  object\n",
            "dtypes: object(4)\n",
            "memory usage: 733.9+ KB\n"
          ]
        }
      ]
    },
    {
      "cell_type": "markdown",
      "source": [
        "A \"Real_or_Fake\" column is entered in both data frames, with \"Real\" or \"Fake\" values entered for each entry depending on the data frame. This will be useful in determining if the news is real or fake in the analysis."
      ],
      "metadata": {
        "id": "3eOMg1GYeyuT"
      }
    },
    {
      "cell_type": "code",
      "source": [
        "real_df.insert(4, \"Real_or_Fake\", \"Real\")"
      ],
      "metadata": {
        "id": "fA5tDWPBm7BB"
      },
      "execution_count": 9,
      "outputs": []
    },
    {
      "cell_type": "code",
      "source": [
        "fake_df.insert(4, \"Real_or_Fake\", \"Fake\")"
      ],
      "metadata": {
        "id": "b1AR7pBKmnPU"
      },
      "execution_count": 10,
      "outputs": []
    },
    {
      "cell_type": "markdown",
      "source": [
        "The real and fake data frames are combined into one data frame (df). From here, further analysis can be explored."
      ],
      "metadata": {
        "id": "BdLhEjO7fJly"
      }
    },
    {
      "cell_type": "code",
      "source": [
        "df = real_df.append(fake_df)\n",
        "df.head()"
      ],
      "metadata": {
        "colab": {
          "base_uri": "https://localhost:8080/",
          "height": 206
        },
        "id": "hjUPHCv-nSpG",
        "outputId": "a5b4a022-7f4b-4af7-d5ed-667dac0f1538"
      },
      "execution_count": 11,
      "outputs": [
        {
          "output_type": "execute_result",
          "data": {
            "text/plain": [
              "                                               title  \\\n",
              "0  As U.S. budget fight looms, Republicans flip t...   \n",
              "1  U.S. military to accept transgender recruits o...   \n",
              "2  Senior U.S. Republican senator: 'Let Mr. Muell...   \n",
              "3  FBI Russia probe helped by Australian diplomat...   \n",
              "4  Trump wants Postal Service to charge 'much mor...   \n",
              "\n",
              "                                                text       subject  \\\n",
              "0  WASHINGTON (Reuters) - The head of a conservat...  politicsNews   \n",
              "1  WASHINGTON (Reuters) - Transgender people will...  politicsNews   \n",
              "2  WASHINGTON (Reuters) - The special counsel inv...  politicsNews   \n",
              "3  WASHINGTON (Reuters) - Trump campaign adviser ...  politicsNews   \n",
              "4  SEATTLE/WASHINGTON (Reuters) - President Donal...  politicsNews   \n",
              "\n",
              "                 date Real_or_Fake  \n",
              "0  December 31, 2017          Real  \n",
              "1  December 29, 2017          Real  \n",
              "2  December 31, 2017          Real  \n",
              "3  December 30, 2017          Real  \n",
              "4  December 29, 2017          Real  "
            ],
            "text/html": [
              "\n",
              "  <div id=\"df-8050ca39-2db8-4cb3-a0e8-5c1a9ef8e31a\">\n",
              "    <div class=\"colab-df-container\">\n",
              "      <div>\n",
              "<style scoped>\n",
              "    .dataframe tbody tr th:only-of-type {\n",
              "        vertical-align: middle;\n",
              "    }\n",
              "\n",
              "    .dataframe tbody tr th {\n",
              "        vertical-align: top;\n",
              "    }\n",
              "\n",
              "    .dataframe thead th {\n",
              "        text-align: right;\n",
              "    }\n",
              "</style>\n",
              "<table border=\"1\" class=\"dataframe\">\n",
              "  <thead>\n",
              "    <tr style=\"text-align: right;\">\n",
              "      <th></th>\n",
              "      <th>title</th>\n",
              "      <th>text</th>\n",
              "      <th>subject</th>\n",
              "      <th>date</th>\n",
              "      <th>Real_or_Fake</th>\n",
              "    </tr>\n",
              "  </thead>\n",
              "  <tbody>\n",
              "    <tr>\n",
              "      <th>0</th>\n",
              "      <td>As U.S. budget fight looms, Republicans flip t...</td>\n",
              "      <td>WASHINGTON (Reuters) - The head of a conservat...</td>\n",
              "      <td>politicsNews</td>\n",
              "      <td>December 31, 2017</td>\n",
              "      <td>Real</td>\n",
              "    </tr>\n",
              "    <tr>\n",
              "      <th>1</th>\n",
              "      <td>U.S. military to accept transgender recruits o...</td>\n",
              "      <td>WASHINGTON (Reuters) - Transgender people will...</td>\n",
              "      <td>politicsNews</td>\n",
              "      <td>December 29, 2017</td>\n",
              "      <td>Real</td>\n",
              "    </tr>\n",
              "    <tr>\n",
              "      <th>2</th>\n",
              "      <td>Senior U.S. Republican senator: 'Let Mr. Muell...</td>\n",
              "      <td>WASHINGTON (Reuters) - The special counsel inv...</td>\n",
              "      <td>politicsNews</td>\n",
              "      <td>December 31, 2017</td>\n",
              "      <td>Real</td>\n",
              "    </tr>\n",
              "    <tr>\n",
              "      <th>3</th>\n",
              "      <td>FBI Russia probe helped by Australian diplomat...</td>\n",
              "      <td>WASHINGTON (Reuters) - Trump campaign adviser ...</td>\n",
              "      <td>politicsNews</td>\n",
              "      <td>December 30, 2017</td>\n",
              "      <td>Real</td>\n",
              "    </tr>\n",
              "    <tr>\n",
              "      <th>4</th>\n",
              "      <td>Trump wants Postal Service to charge 'much mor...</td>\n",
              "      <td>SEATTLE/WASHINGTON (Reuters) - President Donal...</td>\n",
              "      <td>politicsNews</td>\n",
              "      <td>December 29, 2017</td>\n",
              "      <td>Real</td>\n",
              "    </tr>\n",
              "  </tbody>\n",
              "</table>\n",
              "</div>\n",
              "      <button class=\"colab-df-convert\" onclick=\"convertToInteractive('df-8050ca39-2db8-4cb3-a0e8-5c1a9ef8e31a')\"\n",
              "              title=\"Convert this dataframe to an interactive table.\"\n",
              "              style=\"display:none;\">\n",
              "        \n",
              "  <svg xmlns=\"http://www.w3.org/2000/svg\" height=\"24px\"viewBox=\"0 0 24 24\"\n",
              "       width=\"24px\">\n",
              "    <path d=\"M0 0h24v24H0V0z\" fill=\"none\"/>\n",
              "    <path d=\"M18.56 5.44l.94 2.06.94-2.06 2.06-.94-2.06-.94-.94-2.06-.94 2.06-2.06.94zm-11 1L8.5 8.5l.94-2.06 2.06-.94-2.06-.94L8.5 2.5l-.94 2.06-2.06.94zm10 10l.94 2.06.94-2.06 2.06-.94-2.06-.94-.94-2.06-.94 2.06-2.06.94z\"/><path d=\"M17.41 7.96l-1.37-1.37c-.4-.4-.92-.59-1.43-.59-.52 0-1.04.2-1.43.59L10.3 9.45l-7.72 7.72c-.78.78-.78 2.05 0 2.83L4 21.41c.39.39.9.59 1.41.59.51 0 1.02-.2 1.41-.59l7.78-7.78 2.81-2.81c.8-.78.8-2.07 0-2.86zM5.41 20L4 18.59l7.72-7.72 1.47 1.35L5.41 20z\"/>\n",
              "  </svg>\n",
              "      </button>\n",
              "      \n",
              "  <style>\n",
              "    .colab-df-container {\n",
              "      display:flex;\n",
              "      flex-wrap:wrap;\n",
              "      gap: 12px;\n",
              "    }\n",
              "\n",
              "    .colab-df-convert {\n",
              "      background-color: #E8F0FE;\n",
              "      border: none;\n",
              "      border-radius: 50%;\n",
              "      cursor: pointer;\n",
              "      display: none;\n",
              "      fill: #1967D2;\n",
              "      height: 32px;\n",
              "      padding: 0 0 0 0;\n",
              "      width: 32px;\n",
              "    }\n",
              "\n",
              "    .colab-df-convert:hover {\n",
              "      background-color: #E2EBFA;\n",
              "      box-shadow: 0px 1px 2px rgba(60, 64, 67, 0.3), 0px 1px 3px 1px rgba(60, 64, 67, 0.15);\n",
              "      fill: #174EA6;\n",
              "    }\n",
              "\n",
              "    [theme=dark] .colab-df-convert {\n",
              "      background-color: #3B4455;\n",
              "      fill: #D2E3FC;\n",
              "    }\n",
              "\n",
              "    [theme=dark] .colab-df-convert:hover {\n",
              "      background-color: #434B5C;\n",
              "      box-shadow: 0px 1px 3px 1px rgba(0, 0, 0, 0.15);\n",
              "      filter: drop-shadow(0px 1px 2px rgba(0, 0, 0, 0.3));\n",
              "      fill: #FFFFFF;\n",
              "    }\n",
              "  </style>\n",
              "\n",
              "      <script>\n",
              "        const buttonEl =\n",
              "          document.querySelector('#df-8050ca39-2db8-4cb3-a0e8-5c1a9ef8e31a button.colab-df-convert');\n",
              "        buttonEl.style.display =\n",
              "          google.colab.kernel.accessAllowed ? 'block' : 'none';\n",
              "\n",
              "        async function convertToInteractive(key) {\n",
              "          const element = document.querySelector('#df-8050ca39-2db8-4cb3-a0e8-5c1a9ef8e31a');\n",
              "          const dataTable =\n",
              "            await google.colab.kernel.invokeFunction('convertToInteractive',\n",
              "                                                     [key], {});\n",
              "          if (!dataTable) return;\n",
              "\n",
              "          const docLinkHtml = 'Like what you see? Visit the ' +\n",
              "            '<a target=\"_blank\" href=https://colab.research.google.com/notebooks/data_table.ipynb>data table notebook</a>'\n",
              "            + ' to learn more about interactive tables.';\n",
              "          element.innerHTML = '';\n",
              "          dataTable['output_type'] = 'display_data';\n",
              "          await google.colab.output.renderOutput(dataTable, element);\n",
              "          const docLink = document.createElement('div');\n",
              "          docLink.innerHTML = docLinkHtml;\n",
              "          element.appendChild(docLink);\n",
              "        }\n",
              "      </script>\n",
              "    </div>\n",
              "  </div>\n",
              "  "
            ]
          },
          "metadata": {},
          "execution_count": 11
        }
      ]
    },
    {
      "cell_type": "markdown",
      "source": [
        "## **Exploratory Data Analysis**"
      ],
      "metadata": {
        "id": "9Hz5MgivmwN8"
      }
    },
    {
      "cell_type": "markdown",
      "source": [
        "Now that the data frames have been combined, a brief exploratory analysis is performed to investigate the data and find trends within the data."
      ],
      "metadata": {
        "id": "dedb57l-guSx"
      }
    },
    {
      "cell_type": "markdown",
      "source": [
        "First, missing values are double-checked before proceeding. As seen, there are no missing (null) values."
      ],
      "metadata": {
        "id": "OyCXsevrg6Ia"
      }
    },
    {
      "cell_type": "code",
      "source": [
        "df.isnull().sum()"
      ],
      "metadata": {
        "colab": {
          "base_uri": "https://localhost:8080/"
        },
        "id": "MfpAGSdgrH9P",
        "outputId": "9a49dd58-e623-4fed-96cc-e065e749502a"
      },
      "execution_count": 12,
      "outputs": [
        {
          "output_type": "execute_result",
          "data": {
            "text/plain": [
              "title           0\n",
              "text            0\n",
              "subject         0\n",
              "date            0\n",
              "Real_or_Fake    0\n",
              "dtype: int64"
            ]
          },
          "metadata": {},
          "execution_count": 12
        }
      ]
    },
    {
      "cell_type": "markdown",
      "source": [
        "Next, the data is checked for duplicates."
      ],
      "metadata": {
        "id": "FPxETzWMhDSu"
      }
    },
    {
      "cell_type": "code",
      "source": [
        "df.duplicated().sum()"
      ],
      "metadata": {
        "colab": {
          "base_uri": "https://localhost:8080/"
        },
        "id": "MLohY9_XsgAV",
        "outputId": "905fd2ea-391b-47ba-9642-55b1fb27c2c8"
      },
      "execution_count": 13,
      "outputs": [
        {
          "output_type": "execute_result",
          "data": {
            "text/plain": [
              "209"
            ]
          },
          "metadata": {},
          "execution_count": 13
        }
      ]
    },
    {
      "cell_type": "markdown",
      "source": [
        "Supposedly, there are 209 duplicates in the data. In order to see if this is true, the 'True' values are sorted by 'Title'."
      ],
      "metadata": {
        "id": "tmCASrMhhMH2"
      }
    },
    {
      "cell_type": "code",
      "source": [
        "df[df.duplicated()==True].sort_values('title')"
      ],
      "metadata": {
        "colab": {
          "base_uri": "https://localhost:8080/",
          "height": 424
        },
        "id": "_HXhcN-enaOZ",
        "outputId": "7dc45359-c717-4484-9fd1-a74a6b7fbbf5"
      },
      "execution_count": 14,
      "outputs": [
        {
          "output_type": "execute_result",
          "data": {
            "text/plain": [
              "                                                   title  \\\n",
              "4439   'Nuclear option' fallout? More extreme U.S. ju...   \n",
              "11798  After U.S. veto, U.N. General Assembly to meet...   \n",
              "3251   Another U.S. appeals court refuses to revive T...   \n",
              "11776  Arab coalition says will keep Yemen port open;...   \n",
              "11753  Australia finds wreck of first Allied submarin...   \n",
              "...                                                  ...   \n",
              "12744  Vietnam police arrest ex-politburo member over...   \n",
              "1841   White House budget chief says any tax package ...   \n",
              "11746  White, moldy and French: Russia's response to ...   \n",
              "11803  Zimbabwe's Mnangagwa promises zero tolerance i...   \n",
              "14925  [VIDEO] #BlackLivesMatter Terrorists Storm Dar...   \n",
              "\n",
              "                                                    text       subject  \\\n",
              "4439   WASHINGTON (Reuters) - A Republican-backed Sen...  politicsNews   \n",
              "11798  UNITED NATIONS (Reuters) - The 193-member Unit...     worldnews   \n",
              "3251   SAN FRANCISCO/WASHINGTON (Reuters) - President...  politicsNews   \n",
              "11776  ADEN (Reuters) - The Saudi-led coalition fight...     worldnews   \n",
              "11753  SYDNEY (Reuters) - Australia has discovered th...     worldnews   \n",
              "...                                                  ...           ...   \n",
              "12744  HANOI (Reuters) - Vietnamese police on Friday ...     worldnews   \n",
              "1841   WASHINGTON (Reuters) - White House budget chie...  politicsNews   \n",
              "11746  VERKHNAYA PYSHMA/YEKATERINBURG, Russia (Reuter...     worldnews   \n",
              "11803  HARARE (Reuters) - Zimbabwean President Emmers...     worldnews   \n",
              "14925  They were probably just looking for a  safe sp...      politics   \n",
              "\n",
              "                     date Real_or_Fake  \n",
              "4439       April 6, 2017          Real  \n",
              "11798  December 19, 2017          Real  \n",
              "3251       June 12, 2017          Real  \n",
              "11776  December 20, 2017          Real  \n",
              "11753  December 21, 2017          Real  \n",
              "...                   ...          ...  \n",
              "12744   December 8, 2017          Real  \n",
              "1841   September 7, 2017          Real  \n",
              "11746  December 21, 2017          Real  \n",
              "11803  December 20, 2017          Real  \n",
              "14925        Nov 16, 2015         Fake  \n",
              "\n",
              "[209 rows x 5 columns]"
            ],
            "text/html": [
              "\n",
              "  <div id=\"df-45443e0a-3fe7-4530-99d6-a5b859c0ca0f\">\n",
              "    <div class=\"colab-df-container\">\n",
              "      <div>\n",
              "<style scoped>\n",
              "    .dataframe tbody tr th:only-of-type {\n",
              "        vertical-align: middle;\n",
              "    }\n",
              "\n",
              "    .dataframe tbody tr th {\n",
              "        vertical-align: top;\n",
              "    }\n",
              "\n",
              "    .dataframe thead th {\n",
              "        text-align: right;\n",
              "    }\n",
              "</style>\n",
              "<table border=\"1\" class=\"dataframe\">\n",
              "  <thead>\n",
              "    <tr style=\"text-align: right;\">\n",
              "      <th></th>\n",
              "      <th>title</th>\n",
              "      <th>text</th>\n",
              "      <th>subject</th>\n",
              "      <th>date</th>\n",
              "      <th>Real_or_Fake</th>\n",
              "    </tr>\n",
              "  </thead>\n",
              "  <tbody>\n",
              "    <tr>\n",
              "      <th>4439</th>\n",
              "      <td>'Nuclear option' fallout? More extreme U.S. ju...</td>\n",
              "      <td>WASHINGTON (Reuters) - A Republican-backed Sen...</td>\n",
              "      <td>politicsNews</td>\n",
              "      <td>April 6, 2017</td>\n",
              "      <td>Real</td>\n",
              "    </tr>\n",
              "    <tr>\n",
              "      <th>11798</th>\n",
              "      <td>After U.S. veto, U.N. General Assembly to meet...</td>\n",
              "      <td>UNITED NATIONS (Reuters) - The 193-member Unit...</td>\n",
              "      <td>worldnews</td>\n",
              "      <td>December 19, 2017</td>\n",
              "      <td>Real</td>\n",
              "    </tr>\n",
              "    <tr>\n",
              "      <th>3251</th>\n",
              "      <td>Another U.S. appeals court refuses to revive T...</td>\n",
              "      <td>SAN FRANCISCO/WASHINGTON (Reuters) - President...</td>\n",
              "      <td>politicsNews</td>\n",
              "      <td>June 12, 2017</td>\n",
              "      <td>Real</td>\n",
              "    </tr>\n",
              "    <tr>\n",
              "      <th>11776</th>\n",
              "      <td>Arab coalition says will keep Yemen port open;...</td>\n",
              "      <td>ADEN (Reuters) - The Saudi-led coalition fight...</td>\n",
              "      <td>worldnews</td>\n",
              "      <td>December 20, 2017</td>\n",
              "      <td>Real</td>\n",
              "    </tr>\n",
              "    <tr>\n",
              "      <th>11753</th>\n",
              "      <td>Australia finds wreck of first Allied submarin...</td>\n",
              "      <td>SYDNEY (Reuters) - Australia has discovered th...</td>\n",
              "      <td>worldnews</td>\n",
              "      <td>December 21, 2017</td>\n",
              "      <td>Real</td>\n",
              "    </tr>\n",
              "    <tr>\n",
              "      <th>...</th>\n",
              "      <td>...</td>\n",
              "      <td>...</td>\n",
              "      <td>...</td>\n",
              "      <td>...</td>\n",
              "      <td>...</td>\n",
              "    </tr>\n",
              "    <tr>\n",
              "      <th>12744</th>\n",
              "      <td>Vietnam police arrest ex-politburo member over...</td>\n",
              "      <td>HANOI (Reuters) - Vietnamese police on Friday ...</td>\n",
              "      <td>worldnews</td>\n",
              "      <td>December 8, 2017</td>\n",
              "      <td>Real</td>\n",
              "    </tr>\n",
              "    <tr>\n",
              "      <th>1841</th>\n",
              "      <td>White House budget chief says any tax package ...</td>\n",
              "      <td>WASHINGTON (Reuters) - White House budget chie...</td>\n",
              "      <td>politicsNews</td>\n",
              "      <td>September 7, 2017</td>\n",
              "      <td>Real</td>\n",
              "    </tr>\n",
              "    <tr>\n",
              "      <th>11746</th>\n",
              "      <td>White, moldy and French: Russia's response to ...</td>\n",
              "      <td>VERKHNAYA PYSHMA/YEKATERINBURG, Russia (Reuter...</td>\n",
              "      <td>worldnews</td>\n",
              "      <td>December 21, 2017</td>\n",
              "      <td>Real</td>\n",
              "    </tr>\n",
              "    <tr>\n",
              "      <th>11803</th>\n",
              "      <td>Zimbabwe's Mnangagwa promises zero tolerance i...</td>\n",
              "      <td>HARARE (Reuters) - Zimbabwean President Emmers...</td>\n",
              "      <td>worldnews</td>\n",
              "      <td>December 20, 2017</td>\n",
              "      <td>Real</td>\n",
              "    </tr>\n",
              "    <tr>\n",
              "      <th>14925</th>\n",
              "      <td>[VIDEO] #BlackLivesMatter Terrorists Storm Dar...</td>\n",
              "      <td>They were probably just looking for a  safe sp...</td>\n",
              "      <td>politics</td>\n",
              "      <td>Nov 16, 2015</td>\n",
              "      <td>Fake</td>\n",
              "    </tr>\n",
              "  </tbody>\n",
              "</table>\n",
              "<p>209 rows × 5 columns</p>\n",
              "</div>\n",
              "      <button class=\"colab-df-convert\" onclick=\"convertToInteractive('df-45443e0a-3fe7-4530-99d6-a5b859c0ca0f')\"\n",
              "              title=\"Convert this dataframe to an interactive table.\"\n",
              "              style=\"display:none;\">\n",
              "        \n",
              "  <svg xmlns=\"http://www.w3.org/2000/svg\" height=\"24px\"viewBox=\"0 0 24 24\"\n",
              "       width=\"24px\">\n",
              "    <path d=\"M0 0h24v24H0V0z\" fill=\"none\"/>\n",
              "    <path d=\"M18.56 5.44l.94 2.06.94-2.06 2.06-.94-2.06-.94-.94-2.06-.94 2.06-2.06.94zm-11 1L8.5 8.5l.94-2.06 2.06-.94-2.06-.94L8.5 2.5l-.94 2.06-2.06.94zm10 10l.94 2.06.94-2.06 2.06-.94-2.06-.94-.94-2.06-.94 2.06-2.06.94z\"/><path d=\"M17.41 7.96l-1.37-1.37c-.4-.4-.92-.59-1.43-.59-.52 0-1.04.2-1.43.59L10.3 9.45l-7.72 7.72c-.78.78-.78 2.05 0 2.83L4 21.41c.39.39.9.59 1.41.59.51 0 1.02-.2 1.41-.59l7.78-7.78 2.81-2.81c.8-.78.8-2.07 0-2.86zM5.41 20L4 18.59l7.72-7.72 1.47 1.35L5.41 20z\"/>\n",
              "  </svg>\n",
              "      </button>\n",
              "      \n",
              "  <style>\n",
              "    .colab-df-container {\n",
              "      display:flex;\n",
              "      flex-wrap:wrap;\n",
              "      gap: 12px;\n",
              "    }\n",
              "\n",
              "    .colab-df-convert {\n",
              "      background-color: #E8F0FE;\n",
              "      border: none;\n",
              "      border-radius: 50%;\n",
              "      cursor: pointer;\n",
              "      display: none;\n",
              "      fill: #1967D2;\n",
              "      height: 32px;\n",
              "      padding: 0 0 0 0;\n",
              "      width: 32px;\n",
              "    }\n",
              "\n",
              "    .colab-df-convert:hover {\n",
              "      background-color: #E2EBFA;\n",
              "      box-shadow: 0px 1px 2px rgba(60, 64, 67, 0.3), 0px 1px 3px 1px rgba(60, 64, 67, 0.15);\n",
              "      fill: #174EA6;\n",
              "    }\n",
              "\n",
              "    [theme=dark] .colab-df-convert {\n",
              "      background-color: #3B4455;\n",
              "      fill: #D2E3FC;\n",
              "    }\n",
              "\n",
              "    [theme=dark] .colab-df-convert:hover {\n",
              "      background-color: #434B5C;\n",
              "      box-shadow: 0px 1px 3px 1px rgba(0, 0, 0, 0.15);\n",
              "      filter: drop-shadow(0px 1px 2px rgba(0, 0, 0, 0.3));\n",
              "      fill: #FFFFFF;\n",
              "    }\n",
              "  </style>\n",
              "\n",
              "      <script>\n",
              "        const buttonEl =\n",
              "          document.querySelector('#df-45443e0a-3fe7-4530-99d6-a5b859c0ca0f button.colab-df-convert');\n",
              "        buttonEl.style.display =\n",
              "          google.colab.kernel.accessAllowed ? 'block' : 'none';\n",
              "\n",
              "        async function convertToInteractive(key) {\n",
              "          const element = document.querySelector('#df-45443e0a-3fe7-4530-99d6-a5b859c0ca0f');\n",
              "          const dataTable =\n",
              "            await google.colab.kernel.invokeFunction('convertToInteractive',\n",
              "                                                     [key], {});\n",
              "          if (!dataTable) return;\n",
              "\n",
              "          const docLinkHtml = 'Like what you see? Visit the ' +\n",
              "            '<a target=\"_blank\" href=https://colab.research.google.com/notebooks/data_table.ipynb>data table notebook</a>'\n",
              "            + ' to learn more about interactive tables.';\n",
              "          element.innerHTML = '';\n",
              "          dataTable['output_type'] = 'display_data';\n",
              "          await google.colab.output.renderOutput(dataTable, element);\n",
              "          const docLink = document.createElement('div');\n",
              "          docLink.innerHTML = docLinkHtml;\n",
              "          element.appendChild(docLink);\n",
              "        }\n",
              "      </script>\n",
              "    </div>\n",
              "  </div>\n",
              "  "
            ]
          },
          "metadata": {},
          "execution_count": 14
        }
      ]
    },
    {
      "cell_type": "markdown",
      "source": [
        "There does not actually appear to be duplicates in the data. The duplicates sum is ignored and the analysis will continue with the data as-is.\n",
        "\n",
        "Next, a total_text_length column is added to the data by adding the total text length of both the title and the text. This value will be used to compare the fake and real news data frames."
      ],
      "metadata": {
        "id": "DPz9cRuxhT0z"
      }
    },
    {
      "cell_type": "code",
      "source": [
        "#Combines the length of the title and text for each entry and enters the value in a separate column.\n",
        "df['total_text_length'] = df['text'].apply(len)+df['title'].apply(len)\n",
        "#Data frame is viewed to see if the function was applied correctly.\n",
        "df.head()"
      ],
      "metadata": {
        "colab": {
          "base_uri": "https://localhost:8080/",
          "height": 206
        },
        "id": "fJ3hh0rbvGLO",
        "outputId": "46395579-18ad-4dd8-a987-b5e23b2747a7"
      },
      "execution_count": 15,
      "outputs": [
        {
          "output_type": "execute_result",
          "data": {
            "text/plain": [
              "                                               title  \\\n",
              "0  As U.S. budget fight looms, Republicans flip t...   \n",
              "1  U.S. military to accept transgender recruits o...   \n",
              "2  Senior U.S. Republican senator: 'Let Mr. Muell...   \n",
              "3  FBI Russia probe helped by Australian diplomat...   \n",
              "4  Trump wants Postal Service to charge 'much mor...   \n",
              "\n",
              "                                                text       subject  \\\n",
              "0  WASHINGTON (Reuters) - The head of a conservat...  politicsNews   \n",
              "1  WASHINGTON (Reuters) - Transgender people will...  politicsNews   \n",
              "2  WASHINGTON (Reuters) - The special counsel inv...  politicsNews   \n",
              "3  WASHINGTON (Reuters) - Trump campaign adviser ...  politicsNews   \n",
              "4  SEATTLE/WASHINGTON (Reuters) - President Donal...  politicsNews   \n",
              "\n",
              "                 date Real_or_Fake  total_text_length  \n",
              "0  December 31, 2017          Real               4723  \n",
              "1  December 29, 2017          Real               4141  \n",
              "2  December 31, 2017          Real               2849  \n",
              "3  December 30, 2017          Real               2520  \n",
              "4  December 29, 2017          Real               5273  "
            ],
            "text/html": [
              "\n",
              "  <div id=\"df-77dd8be9-8a26-4f85-9dcc-5b656450836d\">\n",
              "    <div class=\"colab-df-container\">\n",
              "      <div>\n",
              "<style scoped>\n",
              "    .dataframe tbody tr th:only-of-type {\n",
              "        vertical-align: middle;\n",
              "    }\n",
              "\n",
              "    .dataframe tbody tr th {\n",
              "        vertical-align: top;\n",
              "    }\n",
              "\n",
              "    .dataframe thead th {\n",
              "        text-align: right;\n",
              "    }\n",
              "</style>\n",
              "<table border=\"1\" class=\"dataframe\">\n",
              "  <thead>\n",
              "    <tr style=\"text-align: right;\">\n",
              "      <th></th>\n",
              "      <th>title</th>\n",
              "      <th>text</th>\n",
              "      <th>subject</th>\n",
              "      <th>date</th>\n",
              "      <th>Real_or_Fake</th>\n",
              "      <th>total_text_length</th>\n",
              "    </tr>\n",
              "  </thead>\n",
              "  <tbody>\n",
              "    <tr>\n",
              "      <th>0</th>\n",
              "      <td>As U.S. budget fight looms, Republicans flip t...</td>\n",
              "      <td>WASHINGTON (Reuters) - The head of a conservat...</td>\n",
              "      <td>politicsNews</td>\n",
              "      <td>December 31, 2017</td>\n",
              "      <td>Real</td>\n",
              "      <td>4723</td>\n",
              "    </tr>\n",
              "    <tr>\n",
              "      <th>1</th>\n",
              "      <td>U.S. military to accept transgender recruits o...</td>\n",
              "      <td>WASHINGTON (Reuters) - Transgender people will...</td>\n",
              "      <td>politicsNews</td>\n",
              "      <td>December 29, 2017</td>\n",
              "      <td>Real</td>\n",
              "      <td>4141</td>\n",
              "    </tr>\n",
              "    <tr>\n",
              "      <th>2</th>\n",
              "      <td>Senior U.S. Republican senator: 'Let Mr. Muell...</td>\n",
              "      <td>WASHINGTON (Reuters) - The special counsel inv...</td>\n",
              "      <td>politicsNews</td>\n",
              "      <td>December 31, 2017</td>\n",
              "      <td>Real</td>\n",
              "      <td>2849</td>\n",
              "    </tr>\n",
              "    <tr>\n",
              "      <th>3</th>\n",
              "      <td>FBI Russia probe helped by Australian diplomat...</td>\n",
              "      <td>WASHINGTON (Reuters) - Trump campaign adviser ...</td>\n",
              "      <td>politicsNews</td>\n",
              "      <td>December 30, 2017</td>\n",
              "      <td>Real</td>\n",
              "      <td>2520</td>\n",
              "    </tr>\n",
              "    <tr>\n",
              "      <th>4</th>\n",
              "      <td>Trump wants Postal Service to charge 'much mor...</td>\n",
              "      <td>SEATTLE/WASHINGTON (Reuters) - President Donal...</td>\n",
              "      <td>politicsNews</td>\n",
              "      <td>December 29, 2017</td>\n",
              "      <td>Real</td>\n",
              "      <td>5273</td>\n",
              "    </tr>\n",
              "  </tbody>\n",
              "</table>\n",
              "</div>\n",
              "      <button class=\"colab-df-convert\" onclick=\"convertToInteractive('df-77dd8be9-8a26-4f85-9dcc-5b656450836d')\"\n",
              "              title=\"Convert this dataframe to an interactive table.\"\n",
              "              style=\"display:none;\">\n",
              "        \n",
              "  <svg xmlns=\"http://www.w3.org/2000/svg\" height=\"24px\"viewBox=\"0 0 24 24\"\n",
              "       width=\"24px\">\n",
              "    <path d=\"M0 0h24v24H0V0z\" fill=\"none\"/>\n",
              "    <path d=\"M18.56 5.44l.94 2.06.94-2.06 2.06-.94-2.06-.94-.94-2.06-.94 2.06-2.06.94zm-11 1L8.5 8.5l.94-2.06 2.06-.94-2.06-.94L8.5 2.5l-.94 2.06-2.06.94zm10 10l.94 2.06.94-2.06 2.06-.94-2.06-.94-.94-2.06-.94 2.06-2.06.94z\"/><path d=\"M17.41 7.96l-1.37-1.37c-.4-.4-.92-.59-1.43-.59-.52 0-1.04.2-1.43.59L10.3 9.45l-7.72 7.72c-.78.78-.78 2.05 0 2.83L4 21.41c.39.39.9.59 1.41.59.51 0 1.02-.2 1.41-.59l7.78-7.78 2.81-2.81c.8-.78.8-2.07 0-2.86zM5.41 20L4 18.59l7.72-7.72 1.47 1.35L5.41 20z\"/>\n",
              "  </svg>\n",
              "      </button>\n",
              "      \n",
              "  <style>\n",
              "    .colab-df-container {\n",
              "      display:flex;\n",
              "      flex-wrap:wrap;\n",
              "      gap: 12px;\n",
              "    }\n",
              "\n",
              "    .colab-df-convert {\n",
              "      background-color: #E8F0FE;\n",
              "      border: none;\n",
              "      border-radius: 50%;\n",
              "      cursor: pointer;\n",
              "      display: none;\n",
              "      fill: #1967D2;\n",
              "      height: 32px;\n",
              "      padding: 0 0 0 0;\n",
              "      width: 32px;\n",
              "    }\n",
              "\n",
              "    .colab-df-convert:hover {\n",
              "      background-color: #E2EBFA;\n",
              "      box-shadow: 0px 1px 2px rgba(60, 64, 67, 0.3), 0px 1px 3px 1px rgba(60, 64, 67, 0.15);\n",
              "      fill: #174EA6;\n",
              "    }\n",
              "\n",
              "    [theme=dark] .colab-df-convert {\n",
              "      background-color: #3B4455;\n",
              "      fill: #D2E3FC;\n",
              "    }\n",
              "\n",
              "    [theme=dark] .colab-df-convert:hover {\n",
              "      background-color: #434B5C;\n",
              "      box-shadow: 0px 1px 3px 1px rgba(0, 0, 0, 0.15);\n",
              "      filter: drop-shadow(0px 1px 2px rgba(0, 0, 0, 0.3));\n",
              "      fill: #FFFFFF;\n",
              "    }\n",
              "  </style>\n",
              "\n",
              "      <script>\n",
              "        const buttonEl =\n",
              "          document.querySelector('#df-77dd8be9-8a26-4f85-9dcc-5b656450836d button.colab-df-convert');\n",
              "        buttonEl.style.display =\n",
              "          google.colab.kernel.accessAllowed ? 'block' : 'none';\n",
              "\n",
              "        async function convertToInteractive(key) {\n",
              "          const element = document.querySelector('#df-77dd8be9-8a26-4f85-9dcc-5b656450836d');\n",
              "          const dataTable =\n",
              "            await google.colab.kernel.invokeFunction('convertToInteractive',\n",
              "                                                     [key], {});\n",
              "          if (!dataTable) return;\n",
              "\n",
              "          const docLinkHtml = 'Like what you see? Visit the ' +\n",
              "            '<a target=\"_blank\" href=https://colab.research.google.com/notebooks/data_table.ipynb>data table notebook</a>'\n",
              "            + ' to learn more about interactive tables.';\n",
              "          element.innerHTML = '';\n",
              "          dataTable['output_type'] = 'display_data';\n",
              "          await google.colab.output.renderOutput(dataTable, element);\n",
              "          const docLink = document.createElement('div');\n",
              "          docLink.innerHTML = docLinkHtml;\n",
              "          element.appendChild(docLink);\n",
              "        }\n",
              "      </script>\n",
              "    </div>\n",
              "  </div>\n",
              "  "
            ]
          },
          "metadata": {},
          "execution_count": 15
        }
      ]
    },
    {
      "cell_type": "markdown",
      "source": [
        "After creating the total_text_length column, the statistics of the column can be viewed."
      ],
      "metadata": {
        "id": "TFFl2gXnjTtz"
      }
    },
    {
      "cell_type": "code",
      "source": [
        "df['total_text_length'].describe()"
      ],
      "metadata": {
        "colab": {
          "base_uri": "https://localhost:8080/"
        },
        "id": "3wVZ0cBcxV_c",
        "outputId": "184aee32-c5fd-4a05-b2d5-4fc45bb02a60"
      },
      "execution_count": 16,
      "outputs": [
        {
          "output_type": "execute_result",
          "data": {
            "text/plain": [
              "count    44898.000000\n",
              "mean      2549.221413\n",
              "std       2172.578772\n",
              "min         30.000000\n",
              "25%       1317.000000\n",
              "50%       2269.000000\n",
              "75%       3188.000000\n",
              "max      51892.000000\n",
              "Name: total_text_length, dtype: float64"
            ]
          },
          "metadata": {},
          "execution_count": 16
        }
      ]
    },
    {
      "cell_type": "markdown",
      "source": [
        "The total_text_length statistics can also be grouped by real news or fake news for comparison."
      ],
      "metadata": {
        "id": "j7e_rNcdjdKo"
      }
    },
    {
      "cell_type": "code",
      "source": [
        "df.groupby('Real_or_Fake').describe().transpose()"
      ],
      "metadata": {
        "colab": {
          "base_uri": "https://localhost:8080/",
          "height": 300
        },
        "id": "oIIfVk3FlimC",
        "outputId": "13ef2372-5e21-4a4a-802f-6b990fe7a9db"
      },
      "execution_count": 17,
      "outputs": [
        {
          "output_type": "execute_result",
          "data": {
            "text/plain": [
              "Real_or_Fake                     Fake          Real\n",
              "total_text_length count  23481.000000  21417.000000\n",
              "                  mean    2641.594268   2447.946398\n",
              "                  std     2533.721790   1684.414608\n",
              "                  min       30.000000     31.000000\n",
              "                  25%     1529.000000    979.000000\n",
              "                  50%     2258.000000   2285.000000\n",
              "                  75%     3125.000000   3300.000000\n",
              "                  max    51892.000000  29848.000000"
            ],
            "text/html": [
              "\n",
              "  <div id=\"df-28c6eaa8-ed10-48e5-a487-4ec01f23753d\">\n",
              "    <div class=\"colab-df-container\">\n",
              "      <div>\n",
              "<style scoped>\n",
              "    .dataframe tbody tr th:only-of-type {\n",
              "        vertical-align: middle;\n",
              "    }\n",
              "\n",
              "    .dataframe tbody tr th {\n",
              "        vertical-align: top;\n",
              "    }\n",
              "\n",
              "    .dataframe thead th {\n",
              "        text-align: right;\n",
              "    }\n",
              "</style>\n",
              "<table border=\"1\" class=\"dataframe\">\n",
              "  <thead>\n",
              "    <tr style=\"text-align: right;\">\n",
              "      <th></th>\n",
              "      <th>Real_or_Fake</th>\n",
              "      <th>Fake</th>\n",
              "      <th>Real</th>\n",
              "    </tr>\n",
              "  </thead>\n",
              "  <tbody>\n",
              "    <tr>\n",
              "      <th rowspan=\"8\" valign=\"top\">total_text_length</th>\n",
              "      <th>count</th>\n",
              "      <td>23481.000000</td>\n",
              "      <td>21417.000000</td>\n",
              "    </tr>\n",
              "    <tr>\n",
              "      <th>mean</th>\n",
              "      <td>2641.594268</td>\n",
              "      <td>2447.946398</td>\n",
              "    </tr>\n",
              "    <tr>\n",
              "      <th>std</th>\n",
              "      <td>2533.721790</td>\n",
              "      <td>1684.414608</td>\n",
              "    </tr>\n",
              "    <tr>\n",
              "      <th>min</th>\n",
              "      <td>30.000000</td>\n",
              "      <td>31.000000</td>\n",
              "    </tr>\n",
              "    <tr>\n",
              "      <th>25%</th>\n",
              "      <td>1529.000000</td>\n",
              "      <td>979.000000</td>\n",
              "    </tr>\n",
              "    <tr>\n",
              "      <th>50%</th>\n",
              "      <td>2258.000000</td>\n",
              "      <td>2285.000000</td>\n",
              "    </tr>\n",
              "    <tr>\n",
              "      <th>75%</th>\n",
              "      <td>3125.000000</td>\n",
              "      <td>3300.000000</td>\n",
              "    </tr>\n",
              "    <tr>\n",
              "      <th>max</th>\n",
              "      <td>51892.000000</td>\n",
              "      <td>29848.000000</td>\n",
              "    </tr>\n",
              "  </tbody>\n",
              "</table>\n",
              "</div>\n",
              "      <button class=\"colab-df-convert\" onclick=\"convertToInteractive('df-28c6eaa8-ed10-48e5-a487-4ec01f23753d')\"\n",
              "              title=\"Convert this dataframe to an interactive table.\"\n",
              "              style=\"display:none;\">\n",
              "        \n",
              "  <svg xmlns=\"http://www.w3.org/2000/svg\" height=\"24px\"viewBox=\"0 0 24 24\"\n",
              "       width=\"24px\">\n",
              "    <path d=\"M0 0h24v24H0V0z\" fill=\"none\"/>\n",
              "    <path d=\"M18.56 5.44l.94 2.06.94-2.06 2.06-.94-2.06-.94-.94-2.06-.94 2.06-2.06.94zm-11 1L8.5 8.5l.94-2.06 2.06-.94-2.06-.94L8.5 2.5l-.94 2.06-2.06.94zm10 10l.94 2.06.94-2.06 2.06-.94-2.06-.94-.94-2.06-.94 2.06-2.06.94z\"/><path d=\"M17.41 7.96l-1.37-1.37c-.4-.4-.92-.59-1.43-.59-.52 0-1.04.2-1.43.59L10.3 9.45l-7.72 7.72c-.78.78-.78 2.05 0 2.83L4 21.41c.39.39.9.59 1.41.59.51 0 1.02-.2 1.41-.59l7.78-7.78 2.81-2.81c.8-.78.8-2.07 0-2.86zM5.41 20L4 18.59l7.72-7.72 1.47 1.35L5.41 20z\"/>\n",
              "  </svg>\n",
              "      </button>\n",
              "      \n",
              "  <style>\n",
              "    .colab-df-container {\n",
              "      display:flex;\n",
              "      flex-wrap:wrap;\n",
              "      gap: 12px;\n",
              "    }\n",
              "\n",
              "    .colab-df-convert {\n",
              "      background-color: #E8F0FE;\n",
              "      border: none;\n",
              "      border-radius: 50%;\n",
              "      cursor: pointer;\n",
              "      display: none;\n",
              "      fill: #1967D2;\n",
              "      height: 32px;\n",
              "      padding: 0 0 0 0;\n",
              "      width: 32px;\n",
              "    }\n",
              "\n",
              "    .colab-df-convert:hover {\n",
              "      background-color: #E2EBFA;\n",
              "      box-shadow: 0px 1px 2px rgba(60, 64, 67, 0.3), 0px 1px 3px 1px rgba(60, 64, 67, 0.15);\n",
              "      fill: #174EA6;\n",
              "    }\n",
              "\n",
              "    [theme=dark] .colab-df-convert {\n",
              "      background-color: #3B4455;\n",
              "      fill: #D2E3FC;\n",
              "    }\n",
              "\n",
              "    [theme=dark] .colab-df-convert:hover {\n",
              "      background-color: #434B5C;\n",
              "      box-shadow: 0px 1px 3px 1px rgba(0, 0, 0, 0.15);\n",
              "      filter: drop-shadow(0px 1px 2px rgba(0, 0, 0, 0.3));\n",
              "      fill: #FFFFFF;\n",
              "    }\n",
              "  </style>\n",
              "\n",
              "      <script>\n",
              "        const buttonEl =\n",
              "          document.querySelector('#df-28c6eaa8-ed10-48e5-a487-4ec01f23753d button.colab-df-convert');\n",
              "        buttonEl.style.display =\n",
              "          google.colab.kernel.accessAllowed ? 'block' : 'none';\n",
              "\n",
              "        async function convertToInteractive(key) {\n",
              "          const element = document.querySelector('#df-28c6eaa8-ed10-48e5-a487-4ec01f23753d');\n",
              "          const dataTable =\n",
              "            await google.colab.kernel.invokeFunction('convertToInteractive',\n",
              "                                                     [key], {});\n",
              "          if (!dataTable) return;\n",
              "\n",
              "          const docLinkHtml = 'Like what you see? Visit the ' +\n",
              "            '<a target=\"_blank\" href=https://colab.research.google.com/notebooks/data_table.ipynb>data table notebook</a>'\n",
              "            + ' to learn more about interactive tables.';\n",
              "          element.innerHTML = '';\n",
              "          dataTable['output_type'] = 'display_data';\n",
              "          await google.colab.output.renderOutput(dataTable, element);\n",
              "          const docLink = document.createElement('div');\n",
              "          docLink.innerHTML = docLinkHtml;\n",
              "          element.appendChild(docLink);\n",
              "        }\n",
              "      </script>\n",
              "    </div>\n",
              "  </div>\n",
              "  "
            ]
          },
          "metadata": {},
          "execution_count": 17
        }
      ]
    },
    {
      "cell_type": "markdown",
      "source": [
        "Overall, there doesn't seem to be a huge difference in total text length between real news and fake news articles. We won't be able to determine if the news is real or fake based on the total text length alone."
      ],
      "metadata": {
        "id": "xrSs24iljqTK"
      }
    },
    {
      "cell_type": "markdown",
      "source": [
        "A countplot is created to display the total counts for real news and fake news articles in the data frame. Overall, there are more fake news in the data, but not by a drastic amount."
      ],
      "metadata": {
        "id": "f9bX5qd8kHxu"
      }
    },
    {
      "cell_type": "code",
      "source": [
        "#Countplot for total amount of real news and fake news articles in the data.\n",
        "sns.countplot(x = 'Real_or_Fake', data = df, palette = 'bright')\n",
        "plt.title('Amount of Real News and Fake News')"
      ],
      "metadata": {
        "colab": {
          "base_uri": "https://localhost:8080/",
          "height": 313
        },
        "id": "46H4RWwxxiId",
        "outputId": "94c88fa6-ecc6-493e-bf98-d5b1f028708d"
      },
      "execution_count": 18,
      "outputs": [
        {
          "output_type": "execute_result",
          "data": {
            "text/plain": [
              "Text(0.5, 1.0, 'Amount of Real News and Fake News')"
            ]
          },
          "metadata": {},
          "execution_count": 18
        },
        {
          "output_type": "display_data",
          "data": {
            "text/plain": [
              "<Figure size 432x288 with 1 Axes>"
            ],
            "image/png": "[encoded data removed]"
          },
          "metadata": {}
        }
      ]
    },
    {
      "cell_type": "markdown",
      "source": [
        "Next, a counts table is created to see the total amount of articles by subject."
      ],
      "metadata": {
        "id": "TTBR5SV8j55B"
      }
    },
    {
      "cell_type": "code",
      "source": [
        "df['subject'].value_counts()"
      ],
      "metadata": {
        "colab": {
          "base_uri": "https://localhost:8080/"
        },
        "id": "VeqlLNpmqKER",
        "outputId": "bed7dcb9-0361-46a5-bef4-9cf8b2c1ad29"
      },
      "execution_count": 19,
      "outputs": [
        {
          "output_type": "execute_result",
          "data": {
            "text/plain": [
              "politicsNews       11272\n",
              "worldnews          10145\n",
              "News                9050\n",
              "politics            6841\n",
              "left-news           4459\n",
              "Government News     1570\n",
              "US_News              783\n",
              "Middle-east          778\n",
              "Name: subject, dtype: int64"
            ]
          },
          "metadata": {},
          "execution_count": 19
        }
      ]
    },
    {
      "cell_type": "markdown",
      "source": [
        "To break it down further, a countplot visual is also created to view the total amount of articles by subject grouped by fake news and real news."
      ],
      "metadata": {
        "id": "pd0vlstLkX86"
      }
    },
    {
      "cell_type": "code",
      "source": [
        "#Countplot for the breakdown of total articles by subject.\n",
        "plt.figure(figsize = (12,5))\n",
        "sns.countplot(x = 'subject', data = df, hue = 'Real_or_Fake')\n",
        "plt.title('Total Count for Each Subject by Type of News')"
      ],
      "metadata": {
        "colab": {
          "base_uri": "https://localhost:8080/",
          "height": 368
        },
        "id": "Xo5N7eJ6syWH",
        "outputId": "5597f906-ed5d-4b7a-a442-3ac05bcd0767"
      },
      "execution_count": 20,
      "outputs": [
        {
          "output_type": "execute_result",
          "data": {
            "text/plain": [
              "Text(0.5, 1.0, 'Total Count for Each Subject by Type of News')"
            ]
          },
          "metadata": {},
          "execution_count": 20
        },
        {
          "output_type": "display_data",
          "data": {
            "text/plain": [
              "<Figure size 864x360 with 1 Axes>"
            ],
            "image/png": "[encoded data removed]"
          },
          "metadata": {}
        }
      ]
    },
    {
      "cell_type": "markdown",
      "source": [
        "A histogram of the length of text for real news and fake news is also created to compare the text length. I limited the x-axis to 15,000 words to make the graph more viewable. There were a few texts of over 15,000 words for both the real news and fake news entries, but the majority of entries contained less than 6,000 words."
      ],
      "metadata": {
        "id": "XC0HhhQfFCCa"
      }
    },
    {
      "cell_type": "code",
      "source": [
        "#Separates the data sets back to real or fake with the added length column.\n",
        "real_plt = df[df['Real_or_Fake'] == \"Real\"]\n",
        "fake_plt = df[df['Real_or_Fake'] == \"Fake\"]\n",
        "#Two histograms created for real and fake news text lengths. The histograms are then combined on one chart.\n",
        "plt.hist(fake_plt['total_text_length'], label = 'Fake News', bins = 40, alpha = 0.7)\n",
        "plt.hist(real_plt['total_text_length'], label = 'Real News', bins = 40, alpha = 0.7)\n",
        "#Displays title, legend, and the plot labels\n",
        "plt.title('Histogram of Length of Articles for Real and Fake News')\n",
        "plt.legend()\n",
        "plt.xlabel('Length of total text')\n",
        "plt.ylabel('Total Count')\n",
        "#Sets x axis limit to 15,000 words. This is to view the most common text length a little closer. \n",
        "plt.xlim(0,15000)"
      ],
      "metadata": {
        "colab": {
          "base_uri": "https://localhost:8080/",
          "height": 312
        },
        "id": "8e5m04fMhesE",
        "outputId": "1e770796-4551-4051-db9a-a5a976137807"
      },
      "execution_count": 21,
      "outputs": [
        {
          "output_type": "execute_result",
          "data": {
            "text/plain": [
              "(0.0, 15000.0)"
            ]
          },
          "metadata": {},
          "execution_count": 21
        },
        {
          "output_type": "display_data",
          "data": {
            "text/plain": [
              "<Figure size 432x288 with 1 Axes>"
            ],
            "image/png": "[encoded data removed]"
          },
          "metadata": {}
        }
      ]
    },
    {
      "cell_type": "markdown",
      "source": [
        "## **Mutating the Data Sets**"
      ],
      "metadata": {
        "id": "wNNmwx7TcAKa"
      }
    },
    {
      "cell_type": "markdown",
      "source": [
        "Next, a 'total_text' column is added by combining the lengths of the 'title' and 'text' columns for each entry. This column will be used for further analysis in determining if an entry is real or fake."
      ],
      "metadata": {
        "id": "6TiQeL4OFk8h"
      }
    },
    {
      "cell_type": "code",
      "source": [
        "#Combines the text from the 'title' and 'text' columns for both the real_df and fake_df data frames.\n",
        "real_df['total_text'] = real_df['title']+real_df['text']\n",
        "fake_df['total_text'] = fake_df['title']+fake_df['text']\n",
        "#View the real_df data frame to see if the mutation worked.\n",
        "real_df.head()"
      ],
      "metadata": {
        "colab": {
          "base_uri": "https://localhost:8080/",
          "height": 250
        },
        "id": "iYFkV09dqMRD",
        "outputId": "8fcbd794-75ae-465f-b516-f880f367f28b"
      },
      "execution_count": 22,
      "outputs": [
        {
          "output_type": "execute_result",
          "data": {
            "text/plain": [
              "                                               title  \\\n",
              "0  As U.S. budget fight looms, Republicans flip t...   \n",
              "1  U.S. military to accept transgender recruits o...   \n",
              "2  Senior U.S. Republican senator: 'Let Mr. Muell...   \n",
              "3  FBI Russia probe helped by Australian diplomat...   \n",
              "4  Trump wants Postal Service to charge 'much mor...   \n",
              "\n",
              "                                                text       subject  \\\n",
              "0  WASHINGTON (Reuters) - The head of a conservat...  politicsNews   \n",
              "1  WASHINGTON (Reuters) - Transgender people will...  politicsNews   \n",
              "2  WASHINGTON (Reuters) - The special counsel inv...  politicsNews   \n",
              "3  WASHINGTON (Reuters) - Trump campaign adviser ...  politicsNews   \n",
              "4  SEATTLE/WASHINGTON (Reuters) - President Donal...  politicsNews   \n",
              "\n",
              "                 date Real_or_Fake  \\\n",
              "0  December 31, 2017          Real   \n",
              "1  December 29, 2017          Real   \n",
              "2  December 31, 2017          Real   \n",
              "3  December 30, 2017          Real   \n",
              "4  December 29, 2017          Real   \n",
              "\n",
              "                                          total_text  \n",
              "0  As U.S. budget fight looms, Republicans flip t...  \n",
              "1  U.S. military to accept transgender recruits o...  \n",
              "2  Senior U.S. Republican senator: 'Let Mr. Muell...  \n",
              "3  FBI Russia probe helped by Australian diplomat...  \n",
              "4  Trump wants Postal Service to charge 'much mor...  "
            ],
            "text/html": [
              "\n",
              "  <div id=\"df-cd284836-919f-404a-80a3-4a66d570caeb\">\n",
              "    <div class=\"colab-df-container\">\n",
              "      <div>\n",
              "<style scoped>\n",
              "    .dataframe tbody tr th:only-of-type {\n",
              "        vertical-align: middle;\n",
              "    }\n",
              "\n",
              "    .dataframe tbody tr th {\n",
              "        vertical-align: top;\n",
              "    }\n",
              "\n",
              "    .dataframe thead th {\n",
              "        text-align: right;\n",
              "    }\n",
              "</style>\n",
              "<table border=\"1\" class=\"dataframe\">\n",
              "  <thead>\n",
              "    <tr style=\"text-align: right;\">\n",
              "      <th></th>\n",
              "      <th>title</th>\n",
              "      <th>text</th>\n",
              "      <th>subject</th>\n",
              "      <th>date</th>\n",
              "      <th>Real_or_Fake</th>\n",
              "      <th>total_text</th>\n",
              "    </tr>\n",
              "  </thead>\n",
              "  <tbody>\n",
              "    <tr>\n",
              "      <th>0</th>\n",
              "      <td>As U.S. budget fight looms, Republicans flip t...</td>\n",
              "      <td>WASHINGTON (Reuters) - The head of a conservat...</td>\n",
              "      <td>politicsNews</td>\n",
              "      <td>December 31, 2017</td>\n",
              "      <td>Real</td>\n",
              "      <td>As U.S. budget fight looms, Republicans flip t...</td>\n",
              "    </tr>\n",
              "    <tr>\n",
              "      <th>1</th>\n",
              "      <td>U.S. military to accept transgender recruits o...</td>\n",
              "      <td>WASHINGTON (Reuters) - Transgender people will...</td>\n",
              "      <td>politicsNews</td>\n",
              "      <td>December 29, 2017</td>\n",
              "      <td>Real</td>\n",
              "      <td>U.S. military to accept transgender recruits o...</td>\n",
              "    </tr>\n",
              "    <tr>\n",
              "      <th>2</th>\n",
              "      <td>Senior U.S. Republican senator: 'Let Mr. Muell...</td>\n",
              "      <td>WASHINGTON (Reuters) - The special counsel inv...</td>\n",
              "      <td>politicsNews</td>\n",
              "      <td>December 31, 2017</td>\n",
              "      <td>Real</td>\n",
              "      <td>Senior U.S. Republican senator: 'Let Mr. Muell...</td>\n",
              "    </tr>\n",
              "    <tr>\n",
              "      <th>3</th>\n",
              "      <td>FBI Russia probe helped by Australian diplomat...</td>\n",
              "      <td>WASHINGTON (Reuters) - Trump campaign adviser ...</td>\n",
              "      <td>politicsNews</td>\n",
              "      <td>December 30, 2017</td>\n",
              "      <td>Real</td>\n",
              "      <td>FBI Russia probe helped by Australian diplomat...</td>\n",
              "    </tr>\n",
              "    <tr>\n",
              "      <th>4</th>\n",
              "      <td>Trump wants Postal Service to charge 'much mor...</td>\n",
              "      <td>SEATTLE/WASHINGTON (Reuters) - President Donal...</td>\n",
              "      <td>politicsNews</td>\n",
              "      <td>December 29, 2017</td>\n",
              "      <td>Real</td>\n",
              "      <td>Trump wants Postal Service to charge 'much mor...</td>\n",
              "    </tr>\n",
              "  </tbody>\n",
              "</table>\n",
              "</div>\n",
              "      <button class=\"colab-df-convert\" onclick=\"convertToInteractive('df-cd284836-919f-404a-80a3-4a66d570caeb')\"\n",
              "              title=\"Convert this dataframe to an interactive table.\"\n",
              "              style=\"display:none;\">\n",
              "        \n",
              "  <svg xmlns=\"http://www.w3.org/2000/svg\" height=\"24px\"viewBox=\"0 0 24 24\"\n",
              "       width=\"24px\">\n",
              "    <path d=\"M0 0h24v24H0V0z\" fill=\"none\"/>\n",
              "    <path d=\"M18.56 5.44l.94 2.06.94-2.06 2.06-.94-2.06-.94-.94-2.06-.94 2.06-2.06.94zm-11 1L8.5 8.5l.94-2.06 2.06-.94-2.06-.94L8.5 2.5l-.94 2.06-2.06.94zm10 10l.94 2.06.94-2.06 2.06-.94-2.06-.94-.94-2.06-.94 2.06-2.06.94z\"/><path d=\"M17.41 7.96l-1.37-1.37c-.4-.4-.92-.59-1.43-.59-.52 0-1.04.2-1.43.59L10.3 9.45l-7.72 7.72c-.78.78-.78 2.05 0 2.83L4 21.41c.39.39.9.59 1.41.59.51 0 1.02-.2 1.41-.59l7.78-7.78 2.81-2.81c.8-.78.8-2.07 0-2.86zM5.41 20L4 18.59l7.72-7.72 1.47 1.35L5.41 20z\"/>\n",
              "  </svg>\n",
              "      </button>\n",
              "      \n",
              "  <style>\n",
              "    .colab-df-container {\n",
              "      display:flex;\n",
              "      flex-wrap:wrap;\n",
              "      gap: 12px;\n",
              "    }\n",
              "\n",
              "    .colab-df-convert {\n",
              "      background-color: #E8F0FE;\n",
              "      border: none;\n",
              "      border-radius: 50%;\n",
              "      cursor: pointer;\n",
              "      display: none;\n",
              "      fill: #1967D2;\n",
              "      height: 32px;\n",
              "      padding: 0 0 0 0;\n",
              "      width: 32px;\n",
              "    }\n",
              "\n",
              "    .colab-df-convert:hover {\n",
              "      background-color: #E2EBFA;\n",
              "      box-shadow: 0px 1px 2px rgba(60, 64, 67, 0.3), 0px 1px 3px 1px rgba(60, 64, 67, 0.15);\n",
              "      fill: #174EA6;\n",
              "    }\n",
              "\n",
              "    [theme=dark] .colab-df-convert {\n",
              "      background-color: #3B4455;\n",
              "      fill: #D2E3FC;\n",
              "    }\n",
              "\n",
              "    [theme=dark] .colab-df-convert:hover {\n",
              "      background-color: #434B5C;\n",
              "      box-shadow: 0px 1px 3px 1px rgba(0, 0, 0, 0.15);\n",
              "      filter: drop-shadow(0px 1px 2px rgba(0, 0, 0, 0.3));\n",
              "      fill: #FFFFFF;\n",
              "    }\n",
              "  </style>\n",
              "\n",
              "      <script>\n",
              "        const buttonEl =\n",
              "          document.querySelector('#df-cd284836-919f-404a-80a3-4a66d570caeb button.colab-df-convert');\n",
              "        buttonEl.style.display =\n",
              "          google.colab.kernel.accessAllowed ? 'block' : 'none';\n",
              "\n",
              "        async function convertToInteractive(key) {\n",
              "          const element = document.querySelector('#df-cd284836-919f-404a-80a3-4a66d570caeb');\n",
              "          const dataTable =\n",
              "            await google.colab.kernel.invokeFunction('convertToInteractive',\n",
              "                                                     [key], {});\n",
              "          if (!dataTable) return;\n",
              "\n",
              "          const docLinkHtml = 'Like what you see? Visit the ' +\n",
              "            '<a target=\"_blank\" href=https://colab.research.google.com/notebooks/data_table.ipynb>data table notebook</a>'\n",
              "            + ' to learn more about interactive tables.';\n",
              "          element.innerHTML = '';\n",
              "          dataTable['output_type'] = 'display_data';\n",
              "          await google.colab.output.renderOutput(dataTable, element);\n",
              "          const docLink = document.createElement('div');\n",
              "          docLink.innerHTML = docLinkHtml;\n",
              "          element.appendChild(docLink);\n",
              "        }\n",
              "      </script>\n",
              "    </div>\n",
              "  </div>\n",
              "  "
            ]
          },
          "metadata": {},
          "execution_count": 22
        }
      ]
    },
    {
      "cell_type": "markdown",
      "source": [
        "Now that the data frames are set, the 'total_text' column can be manipulated to prep the text for analysis. In order to do so, the punctuation, numerals, and single quotations are removed from the data, and the text is all lower case.\n",
        "\n",
        "Below are two different methods of removing text. Both methods use the re package."
      ],
      "metadata": {
        "id": "kMCTZaeQF3dX"
      }
    },
    {
      "cell_type": "code",
      "source": [
        "#Removes the punctuation from the real_df data frame.\n",
        "real_df['total_text'] = real_df['total_text'].apply(lambda x: re.sub(r'[^\\w\\s]','',x))\n",
        "#Removes the numerals from the real_df data frame.\n",
        "real_df['total_text'] = real_df['total_text'].str.replace('\\d+','')\n",
        "#Removes the quotation marks from the real_df data frame.\n",
        "real_df['total_text'] = real_df['total_text'].apply(lambda x: re.sub(r'\\\"', '', x))\n",
        "#Lower case for all text.\n",
        "real_df['total_text'] = real_df['total_text'].str.lower()"
      ],
      "metadata": {
        "colab": {
          "base_uri": "https://localhost:8080/"
        },
        "id": "woV4VCCEsRHZ",
        "outputId": "e11688c1-bb80-4a4f-ef78-2802067dc40c"
      },
      "execution_count": 23,
      "outputs": [
        {
          "output_type": "stream",
          "name": "stderr",
          "text": [
            "<ipython-input-23-b4b5544c94d2>:4: FutureWarning: The default value of regex will change from True to False in a future version.\n",
            "  real_df['total_text'] = real_df['total_text'].str.replace('\\d+','')\n"
          ]
        }
      ]
    },
    {
      "cell_type": "markdown",
      "source": [
        "The real_df data frame is quickly viewed to see if the text manipulation was successful."
      ],
      "metadata": {
        "id": "0a5OUZ_8IaJE"
      }
    },
    {
      "cell_type": "code",
      "source": [
        "real_df.head().transpose()"
      ],
      "metadata": {
        "colab": {
          "base_uri": "https://localhost:8080/",
          "height": 334
        },
        "id": "CortQGBqAKNp",
        "outputId": "83272e44-a36f-4ce9-d3ee-ddb82efe6068"
      },
      "execution_count": 24,
      "outputs": [
        {
          "output_type": "execute_result",
          "data": {
            "text/plain": [
              "                                                              0  \\\n",
              "title         As U.S. budget fight looms, Republicans flip t...   \n",
              "text          WASHINGTON (Reuters) - The head of a conservat...   \n",
              "subject                                            politicsNews   \n",
              "date                                         December 31, 2017    \n",
              "Real_or_Fake                                               Real   \n",
              "total_text    as us budget fight looms republicans flip thei...   \n",
              "\n",
              "                                                              1  \\\n",
              "title         U.S. military to accept transgender recruits o...   \n",
              "text          WASHINGTON (Reuters) - Transgender people will...   \n",
              "subject                                            politicsNews   \n",
              "date                                         December 29, 2017    \n",
              "Real_or_Fake                                               Real   \n",
              "total_text    us military to accept transgender recruits on ...   \n",
              "\n",
              "                                                              2  \\\n",
              "title         Senior U.S. Republican senator: 'Let Mr. Muell...   \n",
              "text          WASHINGTON (Reuters) - The special counsel inv...   \n",
              "subject                                            politicsNews   \n",
              "date                                         December 31, 2017    \n",
              "Real_or_Fake                                               Real   \n",
              "total_text    senior us republican senator let mr mueller do...   \n",
              "\n",
              "                                                              3  \\\n",
              "title         FBI Russia probe helped by Australian diplomat...   \n",
              "text          WASHINGTON (Reuters) - Trump campaign adviser ...   \n",
              "subject                                            politicsNews   \n",
              "date                                         December 30, 2017    \n",
              "Real_or_Fake                                               Real   \n",
              "total_text    fbi russia probe helped by australian diplomat...   \n",
              "\n",
              "                                                              4  \n",
              "title         Trump wants Postal Service to charge 'much mor...  \n",
              "text          SEATTLE/WASHINGTON (Reuters) - President Donal...  \n",
              "subject                                            politicsNews  \n",
              "date                                         December 29, 2017   \n",
              "Real_or_Fake                                               Real  \n",
              "total_text    trump wants postal service to charge much more...  "
            ],
            "text/html": [
              "\n",
              "  <div id=\"df-c3b70caf-0c07-465d-8941-d4848dda3d53\">\n",
              "    <div class=\"colab-df-container\">\n",
              "      <div>\n",
              "<style scoped>\n",
              "    .dataframe tbody tr th:only-of-type {\n",
              "        vertical-align: middle;\n",
              "    }\n",
              "\n",
              "    .dataframe tbody tr th {\n",
              "        vertical-align: top;\n",
              "    }\n",
              "\n",
              "    .dataframe thead th {\n",
              "        text-align: right;\n",
              "    }\n",
              "</style>\n",
              "<table border=\"1\" class=\"dataframe\">\n",
              "  <thead>\n",
              "    <tr style=\"text-align: right;\">\n",
              "      <th></th>\n",
              "      <th>0</th>\n",
              "      <th>1</th>\n",
              "      <th>2</th>\n",
              "      <th>3</th>\n",
              "      <th>4</th>\n",
              "    </tr>\n",
              "  </thead>\n",
              "  <tbody>\n",
              "    <tr>\n",
              "      <th>title</th>\n",
              "      <td>As U.S. budget fight looms, Republicans flip t...</td>\n",
              "      <td>U.S. military to accept transgender recruits o...</td>\n",
              "      <td>Senior U.S. Republican senator: 'Let Mr. Muell...</td>\n",
              "      <td>FBI Russia probe helped by Australian diplomat...</td>\n",
              "      <td>Trump wants Postal Service to charge 'much mor...</td>\n",
              "    </tr>\n",
              "    <tr>\n",
              "      <th>text</th>\n",
              "      <td>WASHINGTON (Reuters) - The head of a conservat...</td>\n",
              "      <td>WASHINGTON (Reuters) - Transgender people will...</td>\n",
              "      <td>WASHINGTON (Reuters) - The special counsel inv...</td>\n",
              "      <td>WASHINGTON (Reuters) - Trump campaign adviser ...</td>\n",
              "      <td>SEATTLE/WASHINGTON (Reuters) - President Donal...</td>\n",
              "    </tr>\n",
              "    <tr>\n",
              "      <th>subject</th>\n",
              "      <td>politicsNews</td>\n",
              "      <td>politicsNews</td>\n",
              "      <td>politicsNews</td>\n",
              "      <td>politicsNews</td>\n",
              "      <td>politicsNews</td>\n",
              "    </tr>\n",
              "    <tr>\n",
              "      <th>date</th>\n",
              "      <td>December 31, 2017</td>\n",
              "      <td>December 29, 2017</td>\n",
              "      <td>December 31, 2017</td>\n",
              "      <td>December 30, 2017</td>\n",
              "      <td>December 29, 2017</td>\n",
              "    </tr>\n",
              "    <tr>\n",
              "      <th>Real_or_Fake</th>\n",
              "      <td>Real</td>\n",
              "      <td>Real</td>\n",
              "      <td>Real</td>\n",
              "      <td>Real</td>\n",
              "      <td>Real</td>\n",
              "    </tr>\n",
              "    <tr>\n",
              "      <th>total_text</th>\n",
              "      <td>as us budget fight looms republicans flip thei...</td>\n",
              "      <td>us military to accept transgender recruits on ...</td>\n",
              "      <td>senior us republican senator let mr mueller do...</td>\n",
              "      <td>fbi russia probe helped by australian diplomat...</td>\n",
              "      <td>trump wants postal service to charge much more...</td>\n",
              "    </tr>\n",
              "  </tbody>\n",
              "</table>\n",
              "</div>\n",
              "      <button class=\"colab-df-convert\" onclick=\"convertToInteractive('df-c3b70caf-0c07-465d-8941-d4848dda3d53')\"\n",
              "              title=\"Convert this dataframe to an interactive table.\"\n",
              "              style=\"display:none;\">\n",
              "        \n",
              "  <svg xmlns=\"http://www.w3.org/2000/svg\" height=\"24px\"viewBox=\"0 0 24 24\"\n",
              "       width=\"24px\">\n",
              "    <path d=\"M0 0h24v24H0V0z\" fill=\"none\"/>\n",
              "    <path d=\"M18.56 5.44l.94 2.06.94-2.06 2.06-.94-2.06-.94-.94-2.06-.94 2.06-2.06.94zm-11 1L8.5 8.5l.94-2.06 2.06-.94-2.06-.94L8.5 2.5l-.94 2.06-2.06.94zm10 10l.94 2.06.94-2.06 2.06-.94-2.06-.94-.94-2.06-.94 2.06-2.06.94z\"/><path d=\"M17.41 7.96l-1.37-1.37c-.4-.4-.92-.59-1.43-.59-.52 0-1.04.2-1.43.59L10.3 9.45l-7.72 7.72c-.78.78-.78 2.05 0 2.83L4 21.41c.39.39.9.59 1.41.59.51 0 1.02-.2 1.41-.59l7.78-7.78 2.81-2.81c.8-.78.8-2.07 0-2.86zM5.41 20L4 18.59l7.72-7.72 1.47 1.35L5.41 20z\"/>\n",
              "  </svg>\n",
              "      </button>\n",
              "      \n",
              "  <style>\n",
              "    .colab-df-container {\n",
              "      display:flex;\n",
              "      flex-wrap:wrap;\n",
              "      gap: 12px;\n",
              "    }\n",
              "\n",
              "    .colab-df-convert {\n",
              "      background-color: #E8F0FE;\n",
              "      border: none;\n",
              "      border-radius: 50%;\n",
              "      cursor: pointer;\n",
              "      display: none;\n",
              "      fill: #1967D2;\n",
              "      height: 32px;\n",
              "      padding: 0 0 0 0;\n",
              "      width: 32px;\n",
              "    }\n",
              "\n",
              "    .colab-df-convert:hover {\n",
              "      background-color: #E2EBFA;\n",
              "      box-shadow: 0px 1px 2px rgba(60, 64, 67, 0.3), 0px 1px 3px 1px rgba(60, 64, 67, 0.15);\n",
              "      fill: #174EA6;\n",
              "    }\n",
              "\n",
              "    [theme=dark] .colab-df-convert {\n",
              "      background-color: #3B4455;\n",
              "      fill: #D2E3FC;\n",
              "    }\n",
              "\n",
              "    [theme=dark] .colab-df-convert:hover {\n",
              "      background-color: #434B5C;\n",
              "      box-shadow: 0px 1px 3px 1px rgba(0, 0, 0, 0.15);\n",
              "      filter: drop-shadow(0px 1px 2px rgba(0, 0, 0, 0.3));\n",
              "      fill: #FFFFFF;\n",
              "    }\n",
              "  </style>\n",
              "\n",
              "      <script>\n",
              "        const buttonEl =\n",
              "          document.querySelector('#df-c3b70caf-0c07-465d-8941-d4848dda3d53 button.colab-df-convert');\n",
              "        buttonEl.style.display =\n",
              "          google.colab.kernel.accessAllowed ? 'block' : 'none';\n",
              "\n",
              "        async function convertToInteractive(key) {\n",
              "          const element = document.querySelector('#df-c3b70caf-0c07-465d-8941-d4848dda3d53');\n",
              "          const dataTable =\n",
              "            await google.colab.kernel.invokeFunction('convertToInteractive',\n",
              "                                                     [key], {});\n",
              "          if (!dataTable) return;\n",
              "\n",
              "          const docLinkHtml = 'Like what you see? Visit the ' +\n",
              "            '<a target=\"_blank\" href=https://colab.research.google.com/notebooks/data_table.ipynb>data table notebook</a>'\n",
              "            + ' to learn more about interactive tables.';\n",
              "          element.innerHTML = '';\n",
              "          dataTable['output_type'] = 'display_data';\n",
              "          await google.colab.output.renderOutput(dataTable, element);\n",
              "          const docLink = document.createElement('div');\n",
              "          docLink.innerHTML = docLinkHtml;\n",
              "          element.appendChild(docLink);\n",
              "        }\n",
              "      </script>\n",
              "    </div>\n",
              "  </div>\n",
              "  "
            ]
          },
          "metadata": {},
          "execution_count": 24
        }
      ]
    },
    {
      "cell_type": "markdown",
      "source": [
        "The same text manipulation is performed on the fake_df data frame."
      ],
      "metadata": {
        "id": "h-9v_BouJPZU"
      }
    },
    {
      "cell_type": "code",
      "source": [
        "#Removes the punctuation (- , .) from the fake_df data frame.\n",
        "fake_df['total_text'] = fake_df['total_text'].apply(lambda x: re.sub(r'[^\\w\\s]','',x))\n",
        "#Removes the numerals from the fake_df data frame.\n",
        "fake_df['total_text'] = fake_df['total_text'].str.replace('\\d+','')\n",
        "#Removes the quotation marks from the fake_df data frame.\n",
        "fake_df['total_text'] = fake_df['total_text'].apply(lambda x: re.sub(r'\\\"', '', x))\n",
        "#Lower case for all text.\n",
        "fake_df['total_text'] = fake_df['total_text'].str.lower()"
      ],
      "metadata": {
        "colab": {
          "base_uri": "https://localhost:8080/"
        },
        "id": "awYC7dtJAn5Z",
        "outputId": "3c1eaa69-070c-455d-ed10-fb26e1412a5c"
      },
      "execution_count": 25,
      "outputs": [
        {
          "output_type": "stream",
          "name": "stderr",
          "text": [
            "<ipython-input-25-d2f1976c5e0a>:4: FutureWarning: The default value of regex will change from True to False in a future version.\n",
            "  fake_df['total_text'] = fake_df['total_text'].str.replace('\\d+','')\n"
          ]
        }
      ]
    },
    {
      "cell_type": "markdown",
      "source": [
        "## **Discovering the Most Common Bigrams**"
      ],
      "metadata": {
        "id": "SKWKApRAcHGs"
      }
    },
    {
      "cell_type": "markdown",
      "source": [
        "Now that the text manipulation is successfully run, the data can now be searched for bigrams. Bigrams are a sequence of two consecutive elements from a string of tokens. An example would be a name ('John Doe') or phrase ('First Place').\n",
        "\n",
        "First, a tokenizer needs to be implemented in order to break down the text into chunks. From this, a bigram model can be created to find the most common two consecutive tokens from the data frame.\n",
        "\n",
        "A tokenizer and bigram model is first created for the real_df data frame."
      ],
      "metadata": {
        "id": "E-3-P8wcJUcB"
      }
    },
    {
      "cell_type": "code",
      "source": [
        "#Creates a tokenizer for the text in the real_df data frame.\n",
        "real_tokens = [w.lower() for c in real_df['total_text'] \n",
        "                    for s in nltk.sent_tokenize(c)\n",
        "                    for w in nltk.word_tokenize(s)]\n",
        "#Creates the bigrams for the real_df data frame based on the tokenizer above.\n",
        "real_bigrams = nltk.FreqDist(nltk.bigrams(real_tokens))"
      ],
      "metadata": {
        "id": "yDhM8o2XeZ_i"
      },
      "execution_count": 26,
      "outputs": []
    },
    {
      "cell_type": "markdown",
      "source": [
        "Next, the stopwords are accounted for in the bigrams, with a frequenct counter added in to count the bigrams that do not contain stopwords. \n",
        "\n",
        "Stopwords are commonly used words that are usually removed in Natural Language Processing to help speed along the analysis. Stopwords include (but not limited to): a, an, and, he, her, and the.\n",
        "\n",
        "By removing the stopwords, Python is able to find more unique bigrams instead of common ones, such as 'in the', 'is a', etc."
      ],
      "metadata": {
        "id": "66PEA5hSKmGt"
      }
    },
    {
      "cell_type": "code",
      "source": [
        "#Creates the set of stopwords in the English language.\n",
        "stop = set([w.lower() for w in nltk.corpus.stopwords.words('english')])\n",
        "#Creates a count list of the bigrams in the real_df data frame.\n",
        "real_stopper = [((w1,w2),f) for ((w1,w2),f) in real_bigrams.most_common()\n",
        "             if w1.isalpha() and w2.isalpha() and w1 not in stop \n",
        "             and w2 not in stop]"
      ],
      "metadata": {
        "id": "xEIDH47Re5UX"
      },
      "execution_count": 27,
      "outputs": []
    },
    {
      "cell_type": "markdown",
      "source": [
        "After removing the stopwords from the data frame and counting the frequency of the bigrams, the top 10 bigrams in the real_df data frame are viewed."
      ],
      "metadata": {
        "id": "zTdJ8CtU042-"
      }
    },
    {
      "cell_type": "code",
      "source": [
        "#Prints the top 10 bigrams in the real_df data frame. \n",
        "real_stopper[:10]"
      ],
      "metadata": {
        "colab": {
          "base_uri": "https://localhost:8080/"
        },
        "id": "7WZR1C9xfBO5",
        "outputId": "ec623713-7259-4ac5-a99f-da98f001d159"
      },
      "execution_count": 28,
      "outputs": [
        {
          "output_type": "execute_result",
          "data": {
            "text/plain": [
              "[(('united', 'states'), 12208),\n",
              " (('white', 'house'), 8805),\n",
              " (('donald', 'trump'), 8014),\n",
              " (('president', 'donald'), 5927),\n",
              " (('north', 'korea'), 5829),\n",
              " (('prime', 'minister'), 4154),\n",
              " (('new', 'york'), 3742),\n",
              " (('islamic', 'state'), 3563),\n",
              " (('told', 'reuters'), 3478),\n",
              " (('us', 'president'), 3463)]"
            ]
          },
          "metadata": {},
          "execution_count": 28
        }
      ]
    },
    {
      "cell_type": "markdown",
      "source": [
        "In order to see the top 10 bigrams in a plot, the following code is run:"
      ],
      "metadata": {
        "id": "4GWP-8dQpn_v"
      }
    },
    {
      "cell_type": "code",
      "source": [
        "#Same as real_tokens, but adds .isalpha() function and makes sure words are not stopwords.\n",
        "real_tokens_2 = [w.lower() for c in real_df['total_text'] \n",
        "                    for s in nltk.sent_tokenize(c)\n",
        "                    for w in nltk.word_tokenize(s)\n",
        "                    if w.isalpha() and w not in stop]\n",
        "#Creates bigrams based on variable above.\n",
        "real_bigrams_2 = nltk.FreqDist(nltk.bigrams(real_tokens_2))\n",
        "#Plots the 10 most common bigrams in the real_df data frame.\n",
        "real_bigrams_2.plot(10, title = 'Top 10 Bigrams for Real News Data')"
      ],
      "metadata": {
        "colab": {
          "base_uri": "https://localhost:8080/",
          "height": 409
        },
        "id": "J5TpLqAa16S9",
        "outputId": "e17e2d3a-ddf8-491a-f317-f26aadd5e778"
      },
      "execution_count": 29,
      "outputs": [
        {
          "output_type": "display_data",
          "data": {
            "text/plain": [
              "<Figure size 432x288 with 1 Axes>"
            ],
            "image/png": "[encoded data removed]"
          },
          "metadata": {}
        },
        {
          "output_type": "execute_result",
          "data": {
            "text/plain": [
              "<matplotlib.axes._subplots.AxesSubplot at 0x7f7d2d4b3fa0>"
            ]
          },
          "metadata": {},
          "execution_count": 29
        }
      ]
    },
    {
      "cell_type": "markdown",
      "source": [
        "The line plot helps see the distribution and drop off in the most-used bigrams. The top bigram use seems to level off after 'prime minister'. "
      ],
      "metadata": {
        "id": "g7m3p5z1p0S0"
      }
    },
    {
      "cell_type": "markdown",
      "source": [
        "The top 10 bigrams for the fake_df data frame are also created and plotted. "
      ],
      "metadata": {
        "id": "eXXZhClrp0ZW"
      }
    },
    {
      "cell_type": "code",
      "source": [
        "#Creates a tokenizer for the text in the real_df data frame.\n",
        "fake_tokens = [w.lower() for c in fake_df['total_text'] \n",
        "                    for s in nltk.sent_tokenize(c)\n",
        "                    for w in nltk.word_tokenize(s)]\n",
        "#Creates the bigrams for the real_df data frame based on the tokenizer above.\n",
        "fake_bigrams = nltk.FreqDist(nltk.bigrams(fake_tokens))\n",
        "#Creates a count list of the bigrams in the fake_df data frame.\n",
        "fake_stopper = [((w1,w2),f) for ((w1,w2),f) in fake_bigrams.most_common()\n",
        "             if w1.isalpha() and w2.isalpha() and w1 not in stop \n",
        "             and w2 not in stop]\n",
        "#Prints the top 10 bigrams in the fake_df data frame. \n",
        "fake_stopper[:10]"
      ],
      "metadata": {
        "id": "VTkVJnaAgEql",
        "colab": {
          "base_uri": "https://localhost:8080/"
        },
        "outputId": "66a2f5fc-a56f-4f33-fb01-019ac544be9c"
      },
      "execution_count": 30,
      "outputs": [
        {
          "output_type": "execute_result",
          "data": {
            "text/plain": [
              "[(('donald', 'trump'), 12647),\n",
              " (('hillary', 'clinton'), 6872),\n",
              " (('white', 'house'), 6554),\n",
              " (('image', 'via'), 6192),\n",
              " (('united', 'states'), 6179),\n",
              " (('new', 'york'), 4269),\n",
              " (('president', 'obama'), 3857),\n",
              " (('president', 'trump'), 3831),\n",
              " (('fox', 'news'), 3412),\n",
              " (('barack', 'obama'), 2246)]"
            ]
          },
          "metadata": {},
          "execution_count": 30
        }
      ]
    },
    {
      "cell_type": "code",
      "source": [
        "#Same as real_tokens, but adds .isalpha() function and makes sure words are not stopwords.\n",
        "fake_tokens_2 = [w.lower() for c in fake_df['total_text'] \n",
        "                    for s in nltk.sent_tokenize(c)\n",
        "                    for w in nltk.word_tokenize(s)\n",
        "                    if w.isalpha() and w not in stop]\n",
        "#Creates bigrams based on variable above.\n",
        "fake_bigrams_2 = nltk.FreqDist(nltk.bigrams(fake_tokens_2))\n",
        "#Plots the 10 most common bigrams in the real_df data frame.\n",
        "fake_bigrams_2.plot(10, title = 'Top 10 Bigrams for Fake News Data')"
      ],
      "metadata": {
        "colab": {
          "base_uri": "https://localhost:8080/",
          "height": 409
        },
        "id": "VjJ0LCXS6vpF",
        "outputId": "36608f89-8177-4a9b-d614-65c37258d997"
      },
      "execution_count": 31,
      "outputs": [
        {
          "output_type": "display_data",
          "data": {
            "text/plain": [
              "<Figure size 432x288 with 1 Axes>"
            ],
            "image/png": "[encoded data removed]"
          },
          "metadata": {}
        },
        {
          "output_type": "execute_result",
          "data": {
            "text/plain": [
              "<matplotlib.axes._subplots.AxesSubplot at 0x7f7d2cf6af40>"
            ]
          },
          "metadata": {},
          "execution_count": 31
        }
      ]
    },
    {
      "cell_type": "markdown",
      "source": [
        "Both data frames have some similar bigrams ('Donald Trump', 'United States' are a couple). However, it seems the real_df data frame may use more sources ('told reuters', 'said statement') while the fake_df data frame may use more images ('image via'). "
      ],
      "metadata": {
        "id": "pU-WBxi0qjDy"
      }
    },
    {
      "cell_type": "markdown",
      "source": [
        "## **Prediction Model for Real and Fake News**"
      ],
      "metadata": {
        "id": "34lvoTK_conh"
      }
    },
    {
      "cell_type": "markdown",
      "source": [
        "A prediction model will be created to predict if an article is real news or fake news.\n",
        "\n",
        "First, the 'title' and 'text' strings will be combined into a 'total_text' column, just like what was done for the real_df and fake_df data frames earlier."
      ],
      "metadata": {
        "id": "JcMgFnmisvoD"
      }
    },
    {
      "cell_type": "code",
      "source": [
        "#Combines the text from the 'title' and 'text' columns for the df (combined) data frame.\n",
        "df['total_text'] = df['title']+df['text']"
      ],
      "metadata": {
        "id": "aIeeFwLvvEI0"
      },
      "execution_count": 32,
      "outputs": []
    },
    {
      "cell_type": "markdown",
      "source": [
        "The df data frame 'total_text' is manipulated the same way as the real_df and fake_df data frames."
      ],
      "metadata": {
        "id": "n1ZKBfNSvaDc"
      }
    },
    {
      "cell_type": "code",
      "source": [
        "#Removes the punctuation (- , .) from the df data frame.\n",
        "df['total_text'] = df['total_text'].apply(lambda x: re.sub(r'[^\\w\\s]','',x))\n",
        "#Removes the numerals from the df data frame.\n",
        "df['total_text'] = df['total_text'].str.replace('\\d+','')\n",
        "#Removes the quotation marks from the df data frame.\n",
        "df['total_text'] = df['total_text'].apply(lambda x: re.sub(r'\\\"', '', x))\n",
        "#Lower case for all text.\n",
        "df['total_text'] = df['total_text'].str.lower()"
      ],
      "metadata": {
        "colab": {
          "base_uri": "https://localhost:8080/"
        },
        "id": "eKbbFNB0tY3p",
        "outputId": "a860fecb-a8ee-4013-c44a-cd4c15057a55"
      },
      "execution_count": 33,
      "outputs": [
        {
          "output_type": "stream",
          "name": "stderr",
          "text": [
            "<ipython-input-33-3271cc6b7e1c>:4: FutureWarning: The default value of regex will change from True to False in a future version.\n",
            "  df['total_text'] = df['total_text'].str.replace('\\d+','')\n"
          ]
        }
      ]
    },
    {
      "cell_type": "markdown",
      "source": [
        "Like before, the df data frame is viewed to see if the proper changes were performed. Since they were, the analysis continues."
      ],
      "metadata": {
        "id": "ZkiHoLUlvwRc"
      }
    },
    {
      "cell_type": "code",
      "source": [
        "df.head().transpose()"
      ],
      "metadata": {
        "colab": {
          "base_uri": "https://localhost:8080/",
          "height": 365
        },
        "id": "jeDdxANxu1df",
        "outputId": "e2a8af5e-e714-4e96-b292-968bb780cc0e"
      },
      "execution_count": 34,
      "outputs": [
        {
          "output_type": "execute_result",
          "data": {
            "text/plain": [
              "                                                                   0  \\\n",
              "title              As U.S. budget fight looms, Republicans flip t...   \n",
              "text               WASHINGTON (Reuters) - The head of a conservat...   \n",
              "subject                                                 politicsNews   \n",
              "date                                              December 31, 2017    \n",
              "Real_or_Fake                                                    Real   \n",
              "total_text_length                                               4723   \n",
              "total_text         as us budget fight looms republicans flip thei...   \n",
              "\n",
              "                                                                   1  \\\n",
              "title              U.S. military to accept transgender recruits o...   \n",
              "text               WASHINGTON (Reuters) - Transgender people will...   \n",
              "subject                                                 politicsNews   \n",
              "date                                              December 29, 2017    \n",
              "Real_or_Fake                                                    Real   \n",
              "total_text_length                                               4141   \n",
              "total_text         us military to accept transgender recruits on ...   \n",
              "\n",
              "                                                                   2  \\\n",
              "title              Senior U.S. Republican senator: 'Let Mr. Muell...   \n",
              "text               WASHINGTON (Reuters) - The special counsel inv...   \n",
              "subject                                                 politicsNews   \n",
              "date                                              December 31, 2017    \n",
              "Real_or_Fake                                                    Real   \n",
              "total_text_length                                               2849   \n",
              "total_text         senior us republican senator let mr mueller do...   \n",
              "\n",
              "                                                                   3  \\\n",
              "title              FBI Russia probe helped by Australian diplomat...   \n",
              "text               WASHINGTON (Reuters) - Trump campaign adviser ...   \n",
              "subject                                                 politicsNews   \n",
              "date                                              December 30, 2017    \n",
              "Real_or_Fake                                                    Real   \n",
              "total_text_length                                               2520   \n",
              "total_text         fbi russia probe helped by australian diplomat...   \n",
              "\n",
              "                                                                   4  \n",
              "title              Trump wants Postal Service to charge 'much mor...  \n",
              "text               SEATTLE/WASHINGTON (Reuters) - President Donal...  \n",
              "subject                                                 politicsNews  \n",
              "date                                              December 29, 2017   \n",
              "Real_or_Fake                                                    Real  \n",
              "total_text_length                                               5273  \n",
              "total_text         trump wants postal service to charge much more...  "
            ],
            "text/html": [
              "\n",
              "  <div id=\"df-27c4bf40-9152-4268-a2c9-3abe10464de3\">\n",
              "    <div class=\"colab-df-container\">\n",
              "      <div>\n",
              "<style scoped>\n",
              "    .dataframe tbody tr th:only-of-type {\n",
              "        vertical-align: middle;\n",
              "    }\n",
              "\n",
              "    .dataframe tbody tr th {\n",
              "        vertical-align: top;\n",
              "    }\n",
              "\n",
              "    .dataframe thead th {\n",
              "        text-align: right;\n",
              "    }\n",
              "</style>\n",
              "<table border=\"1\" class=\"dataframe\">\n",
              "  <thead>\n",
              "    <tr style=\"text-align: right;\">\n",
              "      <th></th>\n",
              "      <th>0</th>\n",
              "      <th>1</th>\n",
              "      <th>2</th>\n",
              "      <th>3</th>\n",
              "      <th>4</th>\n",
              "    </tr>\n",
              "  </thead>\n",
              "  <tbody>\n",
              "    <tr>\n",
              "      <th>title</th>\n",
              "      <td>As U.S. budget fight looms, Republicans flip t...</td>\n",
              "      <td>U.S. military to accept transgender recruits o...</td>\n",
              "      <td>Senior U.S. Republican senator: 'Let Mr. Muell...</td>\n",
              "      <td>FBI Russia probe helped by Australian diplomat...</td>\n",
              "      <td>Trump wants Postal Service to charge 'much mor...</td>\n",
              "    </tr>\n",
              "    <tr>\n",
              "      <th>text</th>\n",
              "      <td>WASHINGTON (Reuters) - The head of a conservat...</td>\n",
              "      <td>WASHINGTON (Reuters) - Transgender people will...</td>\n",
              "      <td>WASHINGTON (Reuters) - The special counsel inv...</td>\n",
              "      <td>WASHINGTON (Reuters) - Trump campaign adviser ...</td>\n",
              "      <td>SEATTLE/WASHINGTON (Reuters) - President Donal...</td>\n",
              "    </tr>\n",
              "    <tr>\n",
              "      <th>subject</th>\n",
              "      <td>politicsNews</td>\n",
              "      <td>politicsNews</td>\n",
              "      <td>politicsNews</td>\n",
              "      <td>politicsNews</td>\n",
              "      <td>politicsNews</td>\n",
              "    </tr>\n",
              "    <tr>\n",
              "      <th>date</th>\n",
              "      <td>December 31, 2017</td>\n",
              "      <td>December 29, 2017</td>\n",
              "      <td>December 31, 2017</td>\n",
              "      <td>December 30, 2017</td>\n",
              "      <td>December 29, 2017</td>\n",
              "    </tr>\n",
              "    <tr>\n",
              "      <th>Real_or_Fake</th>\n",
              "      <td>Real</td>\n",
              "      <td>Real</td>\n",
              "      <td>Real</td>\n",
              "      <td>Real</td>\n",
              "      <td>Real</td>\n",
              "    </tr>\n",
              "    <tr>\n",
              "      <th>total_text_length</th>\n",
              "      <td>4723</td>\n",
              "      <td>4141</td>\n",
              "      <td>2849</td>\n",
              "      <td>2520</td>\n",
              "      <td>5273</td>\n",
              "    </tr>\n",
              "    <tr>\n",
              "      <th>total_text</th>\n",
              "      <td>as us budget fight looms republicans flip thei...</td>\n",
              "      <td>us military to accept transgender recruits on ...</td>\n",
              "      <td>senior us republican senator let mr mueller do...</td>\n",
              "      <td>fbi russia probe helped by australian diplomat...</td>\n",
              "      <td>trump wants postal service to charge much more...</td>\n",
              "    </tr>\n",
              "  </tbody>\n",
              "</table>\n",
              "</div>\n",
              "      <button class=\"colab-df-convert\" onclick=\"convertToInteractive('df-27c4bf40-9152-4268-a2c9-3abe10464de3')\"\n",
              "              title=\"Convert this dataframe to an interactive table.\"\n",
              "              style=\"display:none;\">\n",
              "        \n",
              "  <svg xmlns=\"http://www.w3.org/2000/svg\" height=\"24px\"viewBox=\"0 0 24 24\"\n",
              "       width=\"24px\">\n",
              "    <path d=\"M0 0h24v24H0V0z\" fill=\"none\"/>\n",
              "    <path d=\"M18.56 5.44l.94 2.06.94-2.06 2.06-.94-2.06-.94-.94-2.06-.94 2.06-2.06.94zm-11 1L8.5 8.5l.94-2.06 2.06-.94-2.06-.94L8.5 2.5l-.94 2.06-2.06.94zm10 10l.94 2.06.94-2.06 2.06-.94-2.06-.94-.94-2.06-.94 2.06-2.06.94z\"/><path d=\"M17.41 7.96l-1.37-1.37c-.4-.4-.92-.59-1.43-.59-.52 0-1.04.2-1.43.59L10.3 9.45l-7.72 7.72c-.78.78-.78 2.05 0 2.83L4 21.41c.39.39.9.59 1.41.59.51 0 1.02-.2 1.41-.59l7.78-7.78 2.81-2.81c.8-.78.8-2.07 0-2.86zM5.41 20L4 18.59l7.72-7.72 1.47 1.35L5.41 20z\"/>\n",
              "  </svg>\n",
              "      </button>\n",
              "      \n",
              "  <style>\n",
              "    .colab-df-container {\n",
              "      display:flex;\n",
              "      flex-wrap:wrap;\n",
              "      gap: 12px;\n",
              "    }\n",
              "\n",
              "    .colab-df-convert {\n",
              "      background-color: #E8F0FE;\n",
              "      border: none;\n",
              "      border-radius: 50%;\n",
              "      cursor: pointer;\n",
              "      display: none;\n",
              "      fill: #1967D2;\n",
              "      height: 32px;\n",
              "      padding: 0 0 0 0;\n",
              "      width: 32px;\n",
              "    }\n",
              "\n",
              "    .colab-df-convert:hover {\n",
              "      background-color: #E2EBFA;\n",
              "      box-shadow: 0px 1px 2px rgba(60, 64, 67, 0.3), 0px 1px 3px 1px rgba(60, 64, 67, 0.15);\n",
              "      fill: #174EA6;\n",
              "    }\n",
              "\n",
              "    [theme=dark] .colab-df-convert {\n",
              "      background-color: #3B4455;\n",
              "      fill: #D2E3FC;\n",
              "    }\n",
              "\n",
              "    [theme=dark] .colab-df-convert:hover {\n",
              "      background-color: #434B5C;\n",
              "      box-shadow: 0px 1px 3px 1px rgba(0, 0, 0, 0.15);\n",
              "      filter: drop-shadow(0px 1px 2px rgba(0, 0, 0, 0.3));\n",
              "      fill: #FFFFFF;\n",
              "    }\n",
              "  </style>\n",
              "\n",
              "      <script>\n",
              "        const buttonEl =\n",
              "          document.querySelector('#df-27c4bf40-9152-4268-a2c9-3abe10464de3 button.colab-df-convert');\n",
              "        buttonEl.style.display =\n",
              "          google.colab.kernel.accessAllowed ? 'block' : 'none';\n",
              "\n",
              "        async function convertToInteractive(key) {\n",
              "          const element = document.querySelector('#df-27c4bf40-9152-4268-a2c9-3abe10464de3');\n",
              "          const dataTable =\n",
              "            await google.colab.kernel.invokeFunction('convertToInteractive',\n",
              "                                                     [key], {});\n",
              "          if (!dataTable) return;\n",
              "\n",
              "          const docLinkHtml = 'Like what you see? Visit the ' +\n",
              "            '<a target=\"_blank\" href=https://colab.research.google.com/notebooks/data_table.ipynb>data table notebook</a>'\n",
              "            + ' to learn more about interactive tables.';\n",
              "          element.innerHTML = '';\n",
              "          dataTable['output_type'] = 'display_data';\n",
              "          await google.colab.output.renderOutput(dataTable, element);\n",
              "          const docLink = document.createElement('div');\n",
              "          docLink.innerHTML = docLinkHtml;\n",
              "          element.appendChild(docLink);\n",
              "        }\n",
              "      </script>\n",
              "    </div>\n",
              "  </div>\n",
              "  "
            ]
          },
          "metadata": {},
          "execution_count": 34
        }
      ]
    },
    {
      "cell_type": "markdown",
      "source": [
        "Now that the df data is set up, a count vectorizor and train/test data sets are created to prep for the prediction model.\n",
        "\n",
        "A copy of the df data frame is created (df_pred). That way, any changes made to the df_pred data frame will not change the df data frame. Once done, the 'Real_or_Fake' variable is mapped to 0 or 1 (0 = Real, 1 = Fake) for our binary classification model.\n",
        "\n",
        "Next, the train/test data sets are created for the prediction model with a Count Vectorizor. A Count Vectorizor counts the number of times a word appears in the text."
      ],
      "metadata": {
        "id": "QWYGIhKItTK-"
      }
    },
    {
      "cell_type": "code",
      "source": [
        "from sklearn.feature_extraction.text import CountVectorizer #For Count Vectorizor.\n",
        "from sklearn.model_selection import train_test_split #For train/test split."
      ],
      "metadata": {
        "id": "K9iaq8tcCpp5"
      },
      "execution_count": 35,
      "outputs": []
    },
    {
      "cell_type": "code",
      "source": [
        "#A copy of the df data frame (df_pred) is created. The new data frame is then mapped so Real = 0 and Fake = 1 in the Real_or_Fake column.\n",
        "df_pred = df.copy()\n",
        "df_pred['Real_or_Fake'] = df_pred['Real_or_Fake'].map({'Real':0, 'Fake':1})\n",
        "#X and y are created to return an NumPy array. \n",
        "X = df_pred['total_text'].values\n",
        "y = df_pred['Real_or_Fake'].values\n",
        "#A count vectorizor is created with English stop words. \n",
        "vector = CountVectorizer(stop_words = 'english')\n",
        "#Fits/transforms the count vectorizor on the X variable\n",
        "X = vector.fit_transform(X)\n",
        "#Train and test data set created.\n",
        "X_train, X_test, y_train, y_test = train_test_split(X, y, test_size = 0.25, random_state = 30)"
      ],
      "metadata": {
        "id": "U64O-LUYHI9H"
      },
      "execution_count": 36,
      "outputs": []
    },
    {
      "cell_type": "markdown",
      "source": [
        "For the prediction model, a Multinomial Naive Bayes algorithm will be used to predict whether the text is part of real news or fake news. The Multinomial Naive Bayes model is a popular choice for Natural Language Processing since it's suitable for classification of discrete features (e.g. text). Please see the following link for more information:\n",
        "\n",
        "https://towardsdatascience.com/multinomial-na%C3%AFve-bayes-for-documents-classification-and-natural-language-processing-nlp-e08cc848ce6"
      ],
      "metadata": {
        "id": "hG8rs3DlxNAk"
      }
    },
    {
      "cell_type": "markdown",
      "source": [
        "Below is the setup for the Multinomial Naive Bayes algorithm and the predictions based on the train and test sets."
      ],
      "metadata": {
        "id": "L-a7k5M1x6gC"
      }
    },
    {
      "cell_type": "code",
      "source": [
        "#Creates and fits the Multinomial Naive Bayes algorithm\n",
        "bayes_pred = MultinomialNB()\n",
        "bayes_pred.fit(X_train, y_train)\n",
        "#Creates predictions based on the model\n",
        "predictions = bayes_pred.predict(X_test)"
      ],
      "metadata": {
        "id": "dxr3CEG6HjbE"
      },
      "execution_count": 37,
      "outputs": []
    },
    {
      "cell_type": "markdown",
      "source": [
        "After creating the prediction model, a confusion matrix and classification report are created to see how well the model performed.\n"
      ],
      "metadata": {
        "id": "_yBaaD-GyJo7"
      }
    },
    {
      "cell_type": "code",
      "source": [
        "#Prints the confusion matrix and classification report for the bayes predictions.\n",
        "print(confusion_matrix(y_test, predictions))\n",
        "print('\\n')\n",
        "print(classification_report(y_test, predictions))"
      ],
      "metadata": {
        "colab": {
          "base_uri": "https://localhost:8080/"
        },
        "id": "X5lK2dELY96g",
        "outputId": "935b5682-becb-4011-b6cd-8cdf68ad2bb3"
      },
      "execution_count": 38,
      "outputs": [
        {
          "output_type": "stream",
          "name": "stdout",
          "text": [
            "[[5173  187]\n",
            " [ 263 5602]]\n",
            "\n",
            "\n",
            "              precision    recall  f1-score   support\n",
            "\n",
            "           0       0.95      0.97      0.96      5360\n",
            "           1       0.97      0.96      0.96      5865\n",
            "\n",
            "    accuracy                           0.96     11225\n",
            "   macro avg       0.96      0.96      0.96     11225\n",
            "weighted avg       0.96      0.96      0.96     11225\n",
            "\n"
          ]
        }
      ]
    },
    {
      "cell_type": "markdown",
      "source": [
        "A confusion matrix plot is also created for a visualization on how well the model performed."
      ],
      "metadata": {
        "id": "vcVrjLWQyZpC"
      }
    },
    {
      "cell_type": "code",
      "source": [
        "#Create confusion matrix plot.\n",
        "plot_confusion_matrix(bayes_pred, X_test, y_test)\n",
        "#Remove grid lines to clearly see the labels.\n",
        "plt.grid(False)"
      ],
      "metadata": {
        "colab": {
          "base_uri": "https://localhost:8080/",
          "height": 334
        },
        "id": "s47adkQ3A5KF",
        "outputId": "1b5e8cbe-7e1e-4e00-f390-758b522f9d92"
      },
      "execution_count": 39,
      "outputs": [
        {
          "output_type": "stream",
          "name": "stderr",
          "text": [
            "/usr/local/lib/python3.8/dist-packages/sklearn/utils/deprecation.py:87: FutureWarning: Function plot_confusion_matrix is deprecated; Function `plot_confusion_matrix` is deprecated in 1.0 and will be removed in 1.2. Use one of the class methods: ConfusionMatrixDisplay.from_predictions or ConfusionMatrixDisplay.from_estimator.\n",
            "  warnings.warn(msg, category=FutureWarning)\n"
          ]
        },
        {
          "output_type": "display_data",
          "data": {
            "text/plain": [
              "<Figure size 432x288 with 2 Axes>"
            ],
            "image/png": "[encoded data removed]"
          },
          "metadata": {}
        }
      ]
    },
    {
      "cell_type": "markdown",
      "source": [
        "Overall, the created prediction model did well predicting both real news and fake news, with a 96% total accuracy."
      ],
      "metadata": {
        "id": "utfcTXmpyfEh"
      }
    },
    {
      "cell_type": "markdown",
      "source": [
        "## **Conclusion**"
      ],
      "metadata": {
        "id": "TLY4XeTXzCCO"
      }
    },
    {
      "cell_type": "markdown",
      "source": [
        "In this session, two data sets displaying real news and fake news articles were analyzed to find the differences and predict whether an article has accurate information. First, the real and fake news data frames were explored for patterns and trends, with text manipulations performed to create bigrams and investigate the most common bigrams (two consecutive words) in the real news and fake news data frames.\n",
        "\n",
        "Next, a Multinomial Naive Bayes prediction model was created to predict a real news or fake news article. The model was pretty accurate, predicting with a 96% accuracy.\n",
        "\n",
        "Overall, the session was successful in identifying between the real news and fake news articles. If I were to investigate the data further, I would look into using other Natural Language Processing models such as BERT or XLNet.\n",
        "\n",
        "Thank you for viewing my notebook!"
      ],
      "metadata": {
        "id": "lfjrqZbrMyd6"
      }
    }
  ]
}